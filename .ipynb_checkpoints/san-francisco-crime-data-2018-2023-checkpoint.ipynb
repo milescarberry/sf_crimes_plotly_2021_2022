{
 "cells": [
  {
   "cell_type": "code",
   "execution_count": 196,
   "metadata": {
    "_cell_guid": "b1076dfc-b9ad-4769-8c92-a6c4dae69d19",
    "_uuid": "8f2839f25d086af736a60e9eeb907d3b93b6e0e5",
    "execution": {
     "iopub.execute_input": "2023-02-13T16:51:54.295306Z",
     "iopub.status.busy": "2023-02-13T16:51:54.294904Z",
     "iopub.status.idle": "2023-02-13T16:51:54.302186Z",
     "shell.execute_reply": "2023-02-13T16:51:54.300871Z",
     "shell.execute_reply.started": "2023-02-13T16:51:54.295274Z"
    }
   },
   "outputs": [],
   "source": [
    "# This Python 3 environment comes with many helpful analytics libraries installed\n",
    "# It is defined by the kaggle/python Docker image: https://github.com/kaggle/docker-python\n",
    "# For example, here's several helpful packages to load\n",
    "\n",
    "import numpy as np # linear algebra\n",
    "import pandas as pd # data processing, CSV file I/O (e.g. pd.read_csv)\n",
    "\n",
    "# Input data files are available in the read-only \"../input/\" directory\n",
    "# For example, running this (by clicking run or pressing Shift+Enter) will list all files under the input directory\n",
    "\n",
    "import os\n",
    "for dirname, _, filenames in os.walk('/kaggle/input'):\n",
    "    for filename in filenames:\n",
    "        print(os.path.join(dirname, filename))\n",
    "\n",
    "# You can write up to 20GB to the current directory (/kaggle/working/) that gets preserved as output when you create a version using \"Save & Run All\" \n",
    "# You can also write temporary files to /kaggle/temp/, but they won't be saved outside of the current session"
   ]
  },
  {
   "cell_type": "code",
   "execution_count": 197,
   "metadata": {
    "execution": {
     "iopub.execute_input": "2023-02-13T16:51:54.339364Z",
     "iopub.status.busy": "2023-02-13T16:51:54.338979Z",
     "iopub.status.idle": "2023-02-13T16:51:56.394099Z",
     "shell.execute_reply": "2023-02-13T16:51:56.393051Z",
     "shell.execute_reply.started": "2023-02-13T16:51:54.339333Z"
    }
   },
   "outputs": [],
   "source": [
    "import numpy as np\n",
    "\n",
    "import pandas as pd\n",
    "\n",
    "import matplotlib.pyplot as plt\n",
    "\n",
    "\n",
    "import seaborn as sns\n",
    "\n",
    "\n",
    "from plotly import graph_objects as go\n",
    "\n",
    "\n",
    "from plotly import express as exp\n",
    "\n",
    "\n",
    "import datetime as dt\n",
    "\n",
    "\n",
    "from joblib import dump, load\n",
    "\n",
    "\n",
    "# !pip install pymongo[srv] --quiet\n",
    "\n",
    "\n",
    "# !pip install dnspython --quiet\n",
    "\n",
    "\n",
    "import pymongo\n",
    "\n",
    "\n",
    "import requests\n",
    "\n",
    "\n"
   ]
  },
  {
   "cell_type": "code",
   "execution_count": 198,
   "metadata": {
    "execution": {
     "iopub.execute_input": "2023-02-13T16:51:56.396223Z",
     "iopub.status.busy": "2023-02-13T16:51:56.395902Z",
     "iopub.status.idle": "2023-02-13T16:52:41.194012Z",
     "shell.execute_reply": "2023-02-13T16:52:41.192775Z",
     "shell.execute_reply.started": "2023-02-13T16:51:56.396194Z"
    }
   },
   "outputs": [],
   "source": [
    "data = requests.get(\n",
    "    \n",
    "    \"https://data.sfgov.org/resource/wg3w-h783.json?\"\n",
    "    \n",
    "\n",
    "    \n",
    "    \"$query=SELECT * WHERE (incident_year >= '2013') LIMIT 999999999\" \n",
    "\n",
    ")\n",
    "\n",
    "\n",
    "\n",
    "response = data.json()"
   ]
  },
  {
   "cell_type": "code",
   "execution_count": 199,
   "metadata": {
    "execution": {
     "iopub.execute_input": "2023-02-13T16:52:41.195577Z",
     "iopub.status.busy": "2023-02-13T16:52:41.195266Z",
     "iopub.status.idle": "2023-02-13T16:52:43.956302Z",
     "shell.execute_reply": "2023-02-13T16:52:43.955096Z",
     "shell.execute_reply.started": "2023-02-13T16:52:41.195543Z"
    }
   },
   "outputs": [],
   "source": [
    "crime_df = pd.DataFrame(response)"
   ]
  },
  {
   "cell_type": "code",
   "execution_count": 200,
   "metadata": {
    "execution": {
     "iopub.execute_input": "2023-02-13T16:52:43.959118Z",
     "iopub.status.busy": "2023-02-13T16:52:43.958758Z",
     "iopub.status.idle": "2023-02-13T16:52:43.968330Z",
     "shell.execute_reply": "2023-02-13T16:52:43.967125Z",
     "shell.execute_reply.started": "2023-02-13T16:52:43.959088Z"
    }
   },
   "outputs": [
    {
     "data": {
      "text/plain": [
       "(693201, 26)"
      ]
     },
     "execution_count": 200,
     "metadata": {},
     "output_type": "execute_result"
    }
   ],
   "source": [
    "crime_df.shape"
   ]
  },
  {
   "cell_type": "code",
   "execution_count": 201,
   "metadata": {
    "execution": {
     "iopub.execute_input": "2023-02-13T16:52:43.970382Z",
     "iopub.status.busy": "2023-02-13T16:52:43.969899Z",
     "iopub.status.idle": "2023-02-13T16:52:44.006984Z",
     "shell.execute_reply": "2023-02-13T16:52:44.005845Z",
     "shell.execute_reply.started": "2023-02-13T16:52:43.970339Z"
    }
   },
   "outputs": [
    {
     "data": {
      "text/html": [
       "<div>\n",
       "<style scoped>\n",
       "    .dataframe tbody tr th:only-of-type {\n",
       "        vertical-align: middle;\n",
       "    }\n",
       "\n",
       "    .dataframe tbody tr th {\n",
       "        vertical-align: top;\n",
       "    }\n",
       "\n",
       "    .dataframe thead th {\n",
       "        text-align: right;\n",
       "    }\n",
       "</style>\n",
       "<table border=\"1\" class=\"dataframe\">\n",
       "  <thead>\n",
       "    <tr style=\"text-align: right;\">\n",
       "      <th></th>\n",
       "      <th>incident_datetime</th>\n",
       "      <th>incident_date</th>\n",
       "      <th>incident_time</th>\n",
       "      <th>incident_year</th>\n",
       "      <th>incident_day_of_week</th>\n",
       "      <th>report_datetime</th>\n",
       "      <th>row_id</th>\n",
       "      <th>incident_id</th>\n",
       "      <th>incident_number</th>\n",
       "      <th>report_type_code</th>\n",
       "      <th>...</th>\n",
       "      <th>resolution</th>\n",
       "      <th>police_district</th>\n",
       "      <th>cad_number</th>\n",
       "      <th>intersection</th>\n",
       "      <th>cnn</th>\n",
       "      <th>analysis_neighborhood</th>\n",
       "      <th>supervisor_district</th>\n",
       "      <th>latitude</th>\n",
       "      <th>longitude</th>\n",
       "      <th>point</th>\n",
       "    </tr>\n",
       "  </thead>\n",
       "  <tbody>\n",
       "    <tr>\n",
       "      <th>0</th>\n",
       "      <td>2021-07-25T00:00:00.000</td>\n",
       "      <td>2021-07-25T00:00:00.000</td>\n",
       "      <td>00:00</td>\n",
       "      <td>2021</td>\n",
       "      <td>Sunday</td>\n",
       "      <td>2021-07-25T13:41:00.000</td>\n",
       "      <td>105718906372</td>\n",
       "      <td>1057189</td>\n",
       "      <td>216105573</td>\n",
       "      <td>II</td>\n",
       "      <td>...</td>\n",
       "      <td>Open or Active</td>\n",
       "      <td>Southern</td>\n",
       "      <td>NaN</td>\n",
       "      <td>NaN</td>\n",
       "      <td>NaN</td>\n",
       "      <td>NaN</td>\n",
       "      <td>NaN</td>\n",
       "      <td>NaN</td>\n",
       "      <td>NaN</td>\n",
       "      <td>NaN</td>\n",
       "    </tr>\n",
       "    <tr>\n",
       "      <th>1</th>\n",
       "      <td>2022-06-28T23:58:00.000</td>\n",
       "      <td>2022-06-28T00:00:00.000</td>\n",
       "      <td>23:58</td>\n",
       "      <td>2022</td>\n",
       "      <td>Tuesday</td>\n",
       "      <td>2022-06-28T23:58:00.000</td>\n",
       "      <td>116554371012</td>\n",
       "      <td>1165543</td>\n",
       "      <td>220264913</td>\n",
       "      <td>VS</td>\n",
       "      <td>...</td>\n",
       "      <td>Open or Active</td>\n",
       "      <td>Out of SF</td>\n",
       "      <td>NaN</td>\n",
       "      <td>NaN</td>\n",
       "      <td>NaN</td>\n",
       "      <td>NaN</td>\n",
       "      <td>NaN</td>\n",
       "      <td>NaN</td>\n",
       "      <td>NaN</td>\n",
       "      <td>NaN</td>\n",
       "    </tr>\n",
       "    <tr>\n",
       "      <th>2</th>\n",
       "      <td>2022-03-11T10:30:00.000</td>\n",
       "      <td>2022-03-11T00:00:00.000</td>\n",
       "      <td>10:30</td>\n",
       "      <td>2022</td>\n",
       "      <td>Friday</td>\n",
       "      <td>2022-03-11T20:03:00.000</td>\n",
       "      <td>113048071000</td>\n",
       "      <td>1130480</td>\n",
       "      <td>226040232</td>\n",
       "      <td>II</td>\n",
       "      <td>...</td>\n",
       "      <td>Open or Active</td>\n",
       "      <td>Central</td>\n",
       "      <td>NaN</td>\n",
       "      <td>NaN</td>\n",
       "      <td>NaN</td>\n",
       "      <td>NaN</td>\n",
       "      <td>NaN</td>\n",
       "      <td>NaN</td>\n",
       "      <td>NaN</td>\n",
       "      <td>NaN</td>\n",
       "    </tr>\n",
       "    <tr>\n",
       "      <th>3</th>\n",
       "      <td>2021-05-15T17:47:00.000</td>\n",
       "      <td>2021-05-15T00:00:00.000</td>\n",
       "      <td>17:47</td>\n",
       "      <td>2021</td>\n",
       "      <td>Saturday</td>\n",
       "      <td>2021-05-15T17:47:00.000</td>\n",
       "      <td>103051807043</td>\n",
       "      <td>1030518</td>\n",
       "      <td>210183345</td>\n",
       "      <td>VS</td>\n",
       "      <td>...</td>\n",
       "      <td>Open or Active</td>\n",
       "      <td>Out of SF</td>\n",
       "      <td>NaN</td>\n",
       "      <td>NaN</td>\n",
       "      <td>NaN</td>\n",
       "      <td>NaN</td>\n",
       "      <td>NaN</td>\n",
       "      <td>NaN</td>\n",
       "      <td>NaN</td>\n",
       "      <td>NaN</td>\n",
       "    </tr>\n",
       "    <tr>\n",
       "      <th>4</th>\n",
       "      <td>2022-06-28T17:22:00.000</td>\n",
       "      <td>2022-06-28T00:00:00.000</td>\n",
       "      <td>17:22</td>\n",
       "      <td>2022</td>\n",
       "      <td>Tuesday</td>\n",
       "      <td>2022-06-28T17:22:00.000</td>\n",
       "      <td>116535107041</td>\n",
       "      <td>1165351</td>\n",
       "      <td>220361741</td>\n",
       "      <td>VS</td>\n",
       "      <td>...</td>\n",
       "      <td>Open or Active</td>\n",
       "      <td>Out of SF</td>\n",
       "      <td>NaN</td>\n",
       "      <td>NaN</td>\n",
       "      <td>NaN</td>\n",
       "      <td>NaN</td>\n",
       "      <td>NaN</td>\n",
       "      <td>NaN</td>\n",
       "      <td>NaN</td>\n",
       "      <td>NaN</td>\n",
       "    </tr>\n",
       "  </tbody>\n",
       "</table>\n",
       "<p>5 rows × 26 columns</p>\n",
       "</div>"
      ],
      "text/plain": [
       "         incident_datetime            incident_date incident_time  \\\n",
       "0  2021-07-25T00:00:00.000  2021-07-25T00:00:00.000         00:00   \n",
       "1  2022-06-28T23:58:00.000  2022-06-28T00:00:00.000         23:58   \n",
       "2  2022-03-11T10:30:00.000  2022-03-11T00:00:00.000         10:30   \n",
       "3  2021-05-15T17:47:00.000  2021-05-15T00:00:00.000         17:47   \n",
       "4  2022-06-28T17:22:00.000  2022-06-28T00:00:00.000         17:22   \n",
       "\n",
       "  incident_year incident_day_of_week          report_datetime        row_id  \\\n",
       "0          2021               Sunday  2021-07-25T13:41:00.000  105718906372   \n",
       "1          2022              Tuesday  2022-06-28T23:58:00.000  116554371012   \n",
       "2          2022               Friday  2022-03-11T20:03:00.000  113048071000   \n",
       "3          2021             Saturday  2021-05-15T17:47:00.000  103051807043   \n",
       "4          2022              Tuesday  2022-06-28T17:22:00.000  116535107041   \n",
       "\n",
       "  incident_id incident_number report_type_code  ...      resolution  \\\n",
       "0     1057189       216105573               II  ...  Open or Active   \n",
       "1     1165543       220264913               VS  ...  Open or Active   \n",
       "2     1130480       226040232               II  ...  Open or Active   \n",
       "3     1030518       210183345               VS  ...  Open or Active   \n",
       "4     1165351       220361741               VS  ...  Open or Active   \n",
       "\n",
       "  police_district cad_number intersection  cnn analysis_neighborhood  \\\n",
       "0        Southern        NaN          NaN  NaN                   NaN   \n",
       "1       Out of SF        NaN          NaN  NaN                   NaN   \n",
       "2         Central        NaN          NaN  NaN                   NaN   \n",
       "3       Out of SF        NaN          NaN  NaN                   NaN   \n",
       "4       Out of SF        NaN          NaN  NaN                   NaN   \n",
       "\n",
       "  supervisor_district latitude longitude point  \n",
       "0                 NaN      NaN       NaN   NaN  \n",
       "1                 NaN      NaN       NaN   NaN  \n",
       "2                 NaN      NaN       NaN   NaN  \n",
       "3                 NaN      NaN       NaN   NaN  \n",
       "4                 NaN      NaN       NaN   NaN  \n",
       "\n",
       "[5 rows x 26 columns]"
      ]
     },
     "execution_count": 201,
     "metadata": {},
     "output_type": "execute_result"
    }
   ],
   "source": [
    "crime_df.head(5)"
   ]
  },
  {
   "cell_type": "code",
   "execution_count": 202,
   "metadata": {
    "execution": {
     "iopub.execute_input": "2023-02-13T16:52:44.009049Z",
     "iopub.status.busy": "2023-02-13T16:52:44.008580Z",
     "iopub.status.idle": "2023-02-13T16:52:53.501382Z",
     "shell.execute_reply": "2023-02-13T16:52:53.499859Z",
     "shell.execute_reply.started": "2023-02-13T16:52:44.008994Z"
    }
   },
   "outputs": [],
   "source": [
    "crime_df[\"incident_datetime\"] = crime_df.incident_datetime.apply(lambda x: dt.datetime.strptime(x, \"%Y-%m-%dT%H:%M:%S.%f\"))"
   ]
  },
  {
   "cell_type": "code",
   "execution_count": 203,
   "metadata": {
    "execution": {
     "iopub.execute_input": "2023-02-13T16:52:53.503782Z",
     "iopub.status.busy": "2023-02-13T16:52:53.502961Z",
     "iopub.status.idle": "2023-02-13T16:53:03.208941Z",
     "shell.execute_reply": "2023-02-13T16:53:03.207775Z",
     "shell.execute_reply.started": "2023-02-13T16:52:53.503733Z"
    }
   },
   "outputs": [],
   "source": [
    "crime_df[\"report_datetime\"] = crime_df.report_datetime.apply(lambda x: dt.datetime.strptime(x, \"%Y-%m-%dT%H:%M:%S.%f\"))"
   ]
  },
  {
   "cell_type": "code",
   "execution_count": 204,
   "metadata": {
    "execution": {
     "iopub.execute_input": "2023-02-13T16:53:03.210634Z",
     "iopub.status.busy": "2023-02-13T16:53:03.210288Z",
     "iopub.status.idle": "2023-02-13T16:53:12.849818Z",
     "shell.execute_reply": "2023-02-13T16:53:12.848471Z",
     "shell.execute_reply.started": "2023-02-13T16:53:03.210603Z"
    }
   },
   "outputs": [],
   "source": [
    "crime_df[\"incident_date\"] = crime_df.incident_date.apply(lambda x: dt.datetime.strptime(x, \"%Y-%m-%dT%H:%M:%S.%f\"))"
   ]
  },
  {
   "cell_type": "code",
   "execution_count": 205,
   "metadata": {
    "execution": {
     "iopub.execute_input": "2023-02-13T16:53:12.851885Z",
     "iopub.status.busy": "2023-02-13T16:53:12.851437Z",
     "iopub.status.idle": "2023-02-13T16:53:12.861545Z",
     "shell.execute_reply": "2023-02-13T16:53:12.860300Z",
     "shell.execute_reply.started": "2023-02-13T16:53:12.851838Z"
    }
   },
   "outputs": [
    {
     "data": {
      "text/plain": [
       "Timestamp('2018-01-01 00:00:00')"
      ]
     },
     "execution_count": 205,
     "metadata": {},
     "output_type": "execute_result"
    }
   ],
   "source": [
    "crime_df.incident_date.min()"
   ]
  },
  {
   "cell_type": "code",
   "execution_count": 206,
   "metadata": {
    "execution": {
     "iopub.execute_input": "2023-02-13T16:53:12.867212Z",
     "iopub.status.busy": "2023-02-13T16:53:12.866853Z",
     "iopub.status.idle": "2023-02-13T16:53:12.876758Z",
     "shell.execute_reply": "2023-02-13T16:53:12.875581Z",
     "shell.execute_reply.started": "2023-02-13T16:53:12.867182Z"
    }
   },
   "outputs": [
    {
     "data": {
      "text/plain": [
       "Timestamp('2023-02-09 00:00:00')"
      ]
     },
     "execution_count": 206,
     "metadata": {},
     "output_type": "execute_result"
    }
   ],
   "source": [
    "crime_df.incident_date.max()"
   ]
  },
  {
   "cell_type": "code",
   "execution_count": 207,
   "metadata": {
    "execution": {
     "iopub.execute_input": "2023-02-13T16:53:12.878637Z",
     "iopub.status.busy": "2023-02-13T16:53:12.878234Z",
     "iopub.status.idle": "2023-02-13T16:53:13.559968Z",
     "shell.execute_reply": "2023-02-13T16:53:13.558652Z",
     "shell.execute_reply.started": "2023-02-13T16:53:12.878605Z"
    }
   },
   "outputs": [],
   "source": [
    "crime_df['incident_hour'] = crime_df.incident_time.apply(lambda x: int(x.split(\":\")[0].strip()))"
   ]
  },
  {
   "cell_type": "code",
   "execution_count": 208,
   "metadata": {
    "execution": {
     "iopub.execute_input": "2023-02-13T16:53:13.561509Z",
     "iopub.status.busy": "2023-02-13T16:53:13.561194Z",
     "iopub.status.idle": "2023-02-13T16:53:19.024605Z",
     "shell.execute_reply": "2023-02-13T16:53:19.023085Z",
     "shell.execute_reply.started": "2023-02-13T16:53:13.561480Z"
    }
   },
   "outputs": [],
   "source": [
    "crime_df[\"incident_month\"] = crime_df.incident_date.apply(lambda x: dt.datetime.strftime(x, \"%m\"))"
   ]
  },
  {
   "cell_type": "code",
   "execution_count": 209,
   "metadata": {
    "execution": {
     "iopub.execute_input": "2023-02-13T16:53:19.026529Z",
     "iopub.status.busy": "2023-02-13T16:53:19.026188Z",
     "iopub.status.idle": "2023-02-13T16:53:20.203356Z",
     "shell.execute_reply": "2023-02-13T16:53:20.202054Z",
     "shell.execute_reply.started": "2023-02-13T16:53:19.026500Z"
    }
   },
   "outputs": [],
   "source": [
    "crime_df['incident_year'] = crime_df.incident_year.apply(lambda x: int(x))"
   ]
  },
  {
   "cell_type": "code",
   "execution_count": 210,
   "metadata": {
    "execution": {
     "iopub.execute_input": "2023-02-13T16:53:20.205916Z",
     "iopub.status.busy": "2023-02-13T16:53:20.204911Z",
     "iopub.status.idle": "2023-02-13T16:53:20.216560Z",
     "shell.execute_reply": "2023-02-13T16:53:20.215584Z",
     "shell.execute_reply.started": "2023-02-13T16:53:20.205880Z"
    }
   },
   "outputs": [
    {
     "data": {
      "text/html": [
       "<div>\n",
       "<style scoped>\n",
       "    .dataframe tbody tr th:only-of-type {\n",
       "        vertical-align: middle;\n",
       "    }\n",
       "\n",
       "    .dataframe tbody tr th {\n",
       "        vertical-align: top;\n",
       "    }\n",
       "\n",
       "    .dataframe thead th {\n",
       "        text-align: right;\n",
       "    }\n",
       "</style>\n",
       "<table border=\"1\" class=\"dataframe\">\n",
       "  <thead>\n",
       "    <tr style=\"text-align: right;\">\n",
       "      <th></th>\n",
       "      <th>0</th>\n",
       "    </tr>\n",
       "  </thead>\n",
       "  <tbody>\n",
       "    <tr>\n",
       "      <th>incident_datetime</th>\n",
       "      <td>datetime64[ns]</td>\n",
       "    </tr>\n",
       "    <tr>\n",
       "      <th>incident_date</th>\n",
       "      <td>datetime64[ns]</td>\n",
       "    </tr>\n",
       "    <tr>\n",
       "      <th>incident_time</th>\n",
       "      <td>object</td>\n",
       "    </tr>\n",
       "    <tr>\n",
       "      <th>incident_year</th>\n",
       "      <td>int64</td>\n",
       "    </tr>\n",
       "    <tr>\n",
       "      <th>incident_day_of_week</th>\n",
       "      <td>object</td>\n",
       "    </tr>\n",
       "    <tr>\n",
       "      <th>report_datetime</th>\n",
       "      <td>datetime64[ns]</td>\n",
       "    </tr>\n",
       "    <tr>\n",
       "      <th>row_id</th>\n",
       "      <td>object</td>\n",
       "    </tr>\n",
       "    <tr>\n",
       "      <th>incident_id</th>\n",
       "      <td>object</td>\n",
       "    </tr>\n",
       "    <tr>\n",
       "      <th>incident_number</th>\n",
       "      <td>object</td>\n",
       "    </tr>\n",
       "    <tr>\n",
       "      <th>report_type_code</th>\n",
       "      <td>object</td>\n",
       "    </tr>\n",
       "    <tr>\n",
       "      <th>report_type_description</th>\n",
       "      <td>object</td>\n",
       "    </tr>\n",
       "    <tr>\n",
       "      <th>filed_online</th>\n",
       "      <td>object</td>\n",
       "    </tr>\n",
       "    <tr>\n",
       "      <th>incident_code</th>\n",
       "      <td>object</td>\n",
       "    </tr>\n",
       "    <tr>\n",
       "      <th>incident_category</th>\n",
       "      <td>object</td>\n",
       "    </tr>\n",
       "    <tr>\n",
       "      <th>incident_subcategory</th>\n",
       "      <td>object</td>\n",
       "    </tr>\n",
       "    <tr>\n",
       "      <th>incident_description</th>\n",
       "      <td>object</td>\n",
       "    </tr>\n",
       "    <tr>\n",
       "      <th>resolution</th>\n",
       "      <td>object</td>\n",
       "    </tr>\n",
       "    <tr>\n",
       "      <th>police_district</th>\n",
       "      <td>object</td>\n",
       "    </tr>\n",
       "    <tr>\n",
       "      <th>cad_number</th>\n",
       "      <td>object</td>\n",
       "    </tr>\n",
       "    <tr>\n",
       "      <th>intersection</th>\n",
       "      <td>object</td>\n",
       "    </tr>\n",
       "    <tr>\n",
       "      <th>cnn</th>\n",
       "      <td>object</td>\n",
       "    </tr>\n",
       "    <tr>\n",
       "      <th>analysis_neighborhood</th>\n",
       "      <td>object</td>\n",
       "    </tr>\n",
       "    <tr>\n",
       "      <th>supervisor_district</th>\n",
       "      <td>object</td>\n",
       "    </tr>\n",
       "    <tr>\n",
       "      <th>latitude</th>\n",
       "      <td>object</td>\n",
       "    </tr>\n",
       "    <tr>\n",
       "      <th>longitude</th>\n",
       "      <td>object</td>\n",
       "    </tr>\n",
       "    <tr>\n",
       "      <th>point</th>\n",
       "      <td>object</td>\n",
       "    </tr>\n",
       "    <tr>\n",
       "      <th>incident_hour</th>\n",
       "      <td>int64</td>\n",
       "    </tr>\n",
       "    <tr>\n",
       "      <th>incident_month</th>\n",
       "      <td>object</td>\n",
       "    </tr>\n",
       "  </tbody>\n",
       "</table>\n",
       "</div>"
      ],
      "text/plain": [
       "                                      0\n",
       "incident_datetime        datetime64[ns]\n",
       "incident_date            datetime64[ns]\n",
       "incident_time                    object\n",
       "incident_year                     int64\n",
       "incident_day_of_week             object\n",
       "report_datetime          datetime64[ns]\n",
       "row_id                           object\n",
       "incident_id                      object\n",
       "incident_number                  object\n",
       "report_type_code                 object\n",
       "report_type_description          object\n",
       "filed_online                     object\n",
       "incident_code                    object\n",
       "incident_category                object\n",
       "incident_subcategory             object\n",
       "incident_description             object\n",
       "resolution                       object\n",
       "police_district                  object\n",
       "cad_number                       object\n",
       "intersection                     object\n",
       "cnn                              object\n",
       "analysis_neighborhood            object\n",
       "supervisor_district              object\n",
       "latitude                         object\n",
       "longitude                        object\n",
       "point                            object\n",
       "incident_hour                     int64\n",
       "incident_month                   object"
      ]
     },
     "execution_count": 210,
     "metadata": {},
     "output_type": "execute_result"
    }
   ],
   "source": [
    "pd.DataFrame(crime_df.dtypes)"
   ]
  },
  {
   "cell_type": "code",
   "execution_count": 211,
   "metadata": {
    "execution": {
     "iopub.execute_input": "2023-02-13T16:53:20.218459Z",
     "iopub.status.busy": "2023-02-13T16:53:20.218060Z",
     "iopub.status.idle": "2023-02-13T16:53:20.323906Z",
     "shell.execute_reply": "2023-02-13T16:53:20.322272Z",
     "shell.execute_reply.started": "2023-02-13T16:53:20.218426Z"
    }
   },
   "outputs": [
    {
     "data": {
      "text/plain": [
       "5.31"
      ]
     },
     "execution_count": 211,
     "metadata": {},
     "output_type": "execute_result"
    }
   ],
   "source": [
    "round((crime_df['latitude'].isna().sum() / len(crime_df.latitude)) * 100, 2)"
   ]
  },
  {
   "cell_type": "code",
   "execution_count": 212,
   "metadata": {
    "execution": {
     "iopub.execute_input": "2023-02-13T16:53:20.328122Z",
     "iopub.status.busy": "2023-02-13T16:53:20.326881Z",
     "iopub.status.idle": "2023-02-13T16:53:22.226043Z",
     "shell.execute_reply": "2023-02-13T16:53:22.224760Z",
     "shell.execute_reply.started": "2023-02-13T16:53:20.328074Z"
    }
   },
   "outputs": [],
   "source": [
    "crime_df['latitude'] = crime_df.latitude.astype(float)\n",
    "\n",
    "crime_df['longitude'] = crime_df.longitude.astype(float)"
   ]
  },
  {
   "cell_type": "code",
   "execution_count": 213,
   "metadata": {
    "execution": {
     "iopub.execute_input": "2023-02-13T16:53:22.228254Z",
     "iopub.status.busy": "2023-02-13T16:53:22.227731Z",
     "iopub.status.idle": "2023-02-13T16:53:24.184819Z",
     "shell.execute_reply": "2023-02-13T16:53:24.183563Z",
     "shell.execute_reply.started": "2023-02-13T16:53:22.228205Z"
    }
   },
   "outputs": [],
   "source": [
    "crime_df = crime_df.reindex(columns = ['incident_datetime',\n",
    " 'incident_date',\n",
    " 'incident_time',\n",
    " 'incident_month',\n",
    " 'incident_hour',\n",
    " 'incident_year',\n",
    " 'incident_day_of_week',\n",
    " 'report_datetime',\n",
    " 'row_id',\n",
    " 'incident_id',\n",
    " 'incident_number',\n",
    " 'report_type_code',\n",
    " 'report_type_description',\n",
    " 'filed_online',\n",
    " 'incident_code',\n",
    " 'incident_category',\n",
    " 'incident_subcategory',\n",
    " 'incident_description',\n",
    " 'resolution',\n",
    " 'police_district',\n",
    " 'cad_number',\n",
    " 'intersection',\n",
    " 'cnn',\n",
    " 'analysis_neighborhood',\n",
    " 'supervisor_district',\n",
    " 'latitude',\n",
    " 'longitude',\n",
    " 'point'])"
   ]
  },
  {
   "cell_type": "code",
   "execution_count": 214,
   "metadata": {
    "execution": {
     "iopub.execute_input": "2023-02-13T16:53:24.186674Z",
     "iopub.status.busy": "2023-02-13T16:53:24.186219Z",
     "iopub.status.idle": "2023-02-13T16:53:26.022052Z",
     "shell.execute_reply": "2023-02-13T16:53:26.021037Z",
     "shell.execute_reply.started": "2023-02-13T16:53:24.186640Z"
    }
   },
   "outputs": [],
   "source": [
    "cols = crime_df.columns.values.tolist()\n",
    "\n",
    "\n",
    "nan_col_dict = {}\n",
    "\n",
    "\n",
    "for col in cols:\n",
    "    \n",
    "    \n",
    "    nan_col_dict[col] = round((crime_df[col].isna().sum() / len(crime_df[col])) * 100, 2)"
   ]
  },
  {
   "cell_type": "code",
   "execution_count": 215,
   "metadata": {
    "execution": {
     "iopub.execute_input": "2023-02-13T16:53:26.023902Z",
     "iopub.status.busy": "2023-02-13T16:53:26.023556Z",
     "iopub.status.idle": "2023-02-13T16:53:27.063107Z",
     "shell.execute_reply": "2023-02-13T16:53:27.062034Z",
     "shell.execute_reply.started": "2023-02-13T16:53:26.023871Z"
    }
   },
   "outputs": [
    {
     "data": {
      "application/vnd.plotly.v1+json": {
       "config": {
        "plotlyServerURL": "https://plot.ly"
       },
       "data": [
        {
         "alignmentgroup": "True",
         "hovertemplate": "column=%{x}<br>value=%{y}<extra></extra>",
         "legendgroup": "",
         "marker": {
          "color": "#636efa",
          "pattern": {
           "shape": ""
          }
         },
         "name": "",
         "offsetgroup": "",
         "orientation": "v",
         "showlegend": false,
         "textposition": "auto",
         "type": "bar",
         "x": [
          "filed_online",
          "cad_number",
          "point",
          "longitude",
          "latitude",
          "supervisor_district",
          "analysis_neighborhood",
          "cnn",
          "intersection",
          "incident_category",
          "incident_subcategory",
          "police_district",
          "resolution",
          "incident_description",
          "incident_datetime",
          "incident_date",
          "report_type_description",
          "report_type_code",
          "incident_number",
          "incident_id",
          "row_id",
          "report_datetime",
          "incident_day_of_week",
          "incident_year",
          "incident_hour",
          "incident_month",
          "incident_time",
          "incident_code"
         ],
         "xaxis": "x",
         "y": [
          79.88,
          22.37,
          5.31,
          5.31,
          5.31,
          5.31,
          5.31,
          5.31,
          5.31,
          0.08,
          0.08,
          0,
          0,
          0,
          0,
          0,
          0,
          0,
          0,
          0,
          0,
          0,
          0,
          0,
          0,
          0,
          0,
          0
         ],
         "yaxis": "y"
        }
       ],
       "layout": {
        "barmode": "relative",
        "legend": {
         "tracegroupgap": 0
        },
        "margin": {
         "t": 60
        },
        "template": {
         "data": {
          "bar": [
           {
            "error_x": {
             "color": "#2a3f5f"
            },
            "error_y": {
             "color": "#2a3f5f"
            },
            "marker": {
             "line": {
              "color": "#E5ECF6",
              "width": 0.5
             },
             "pattern": {
              "fillmode": "overlay",
              "size": 10,
              "solidity": 0.2
             }
            },
            "type": "bar"
           }
          ],
          "barpolar": [
           {
            "marker": {
             "line": {
              "color": "#E5ECF6",
              "width": 0.5
             },
             "pattern": {
              "fillmode": "overlay",
              "size": 10,
              "solidity": 0.2
             }
            },
            "type": "barpolar"
           }
          ],
          "carpet": [
           {
            "aaxis": {
             "endlinecolor": "#2a3f5f",
             "gridcolor": "white",
             "linecolor": "white",
             "minorgridcolor": "white",
             "startlinecolor": "#2a3f5f"
            },
            "baxis": {
             "endlinecolor": "#2a3f5f",
             "gridcolor": "white",
             "linecolor": "white",
             "minorgridcolor": "white",
             "startlinecolor": "#2a3f5f"
            },
            "type": "carpet"
           }
          ],
          "choropleth": [
           {
            "colorbar": {
             "outlinewidth": 0,
             "ticks": ""
            },
            "type": "choropleth"
           }
          ],
          "contour": [
           {
            "colorbar": {
             "outlinewidth": 0,
             "ticks": ""
            },
            "colorscale": [
             [
              0,
              "#0d0887"
             ],
             [
              0.1111111111111111,
              "#46039f"
             ],
             [
              0.2222222222222222,
              "#7201a8"
             ],
             [
              0.3333333333333333,
              "#9c179e"
             ],
             [
              0.4444444444444444,
              "#bd3786"
             ],
             [
              0.5555555555555556,
              "#d8576b"
             ],
             [
              0.6666666666666666,
              "#ed7953"
             ],
             [
              0.7777777777777778,
              "#fb9f3a"
             ],
             [
              0.8888888888888888,
              "#fdca26"
             ],
             [
              1,
              "#f0f921"
             ]
            ],
            "type": "contour"
           }
          ],
          "contourcarpet": [
           {
            "colorbar": {
             "outlinewidth": 0,
             "ticks": ""
            },
            "type": "contourcarpet"
           }
          ],
          "heatmap": [
           {
            "colorbar": {
             "outlinewidth": 0,
             "ticks": ""
            },
            "colorscale": [
             [
              0,
              "#0d0887"
             ],
             [
              0.1111111111111111,
              "#46039f"
             ],
             [
              0.2222222222222222,
              "#7201a8"
             ],
             [
              0.3333333333333333,
              "#9c179e"
             ],
             [
              0.4444444444444444,
              "#bd3786"
             ],
             [
              0.5555555555555556,
              "#d8576b"
             ],
             [
              0.6666666666666666,
              "#ed7953"
             ],
             [
              0.7777777777777778,
              "#fb9f3a"
             ],
             [
              0.8888888888888888,
              "#fdca26"
             ],
             [
              1,
              "#f0f921"
             ]
            ],
            "type": "heatmap"
           }
          ],
          "heatmapgl": [
           {
            "colorbar": {
             "outlinewidth": 0,
             "ticks": ""
            },
            "colorscale": [
             [
              0,
              "#0d0887"
             ],
             [
              0.1111111111111111,
              "#46039f"
             ],
             [
              0.2222222222222222,
              "#7201a8"
             ],
             [
              0.3333333333333333,
              "#9c179e"
             ],
             [
              0.4444444444444444,
              "#bd3786"
             ],
             [
              0.5555555555555556,
              "#d8576b"
             ],
             [
              0.6666666666666666,
              "#ed7953"
             ],
             [
              0.7777777777777778,
              "#fb9f3a"
             ],
             [
              0.8888888888888888,
              "#fdca26"
             ],
             [
              1,
              "#f0f921"
             ]
            ],
            "type": "heatmapgl"
           }
          ],
          "histogram": [
           {
            "marker": {
             "pattern": {
              "fillmode": "overlay",
              "size": 10,
              "solidity": 0.2
             }
            },
            "type": "histogram"
           }
          ],
          "histogram2d": [
           {
            "colorbar": {
             "outlinewidth": 0,
             "ticks": ""
            },
            "colorscale": [
             [
              0,
              "#0d0887"
             ],
             [
              0.1111111111111111,
              "#46039f"
             ],
             [
              0.2222222222222222,
              "#7201a8"
             ],
             [
              0.3333333333333333,
              "#9c179e"
             ],
             [
              0.4444444444444444,
              "#bd3786"
             ],
             [
              0.5555555555555556,
              "#d8576b"
             ],
             [
              0.6666666666666666,
              "#ed7953"
             ],
             [
              0.7777777777777778,
              "#fb9f3a"
             ],
             [
              0.8888888888888888,
              "#fdca26"
             ],
             [
              1,
              "#f0f921"
             ]
            ],
            "type": "histogram2d"
           }
          ],
          "histogram2dcontour": [
           {
            "colorbar": {
             "outlinewidth": 0,
             "ticks": ""
            },
            "colorscale": [
             [
              0,
              "#0d0887"
             ],
             [
              0.1111111111111111,
              "#46039f"
             ],
             [
              0.2222222222222222,
              "#7201a8"
             ],
             [
              0.3333333333333333,
              "#9c179e"
             ],
             [
              0.4444444444444444,
              "#bd3786"
             ],
             [
              0.5555555555555556,
              "#d8576b"
             ],
             [
              0.6666666666666666,
              "#ed7953"
             ],
             [
              0.7777777777777778,
              "#fb9f3a"
             ],
             [
              0.8888888888888888,
              "#fdca26"
             ],
             [
              1,
              "#f0f921"
             ]
            ],
            "type": "histogram2dcontour"
           }
          ],
          "mesh3d": [
           {
            "colorbar": {
             "outlinewidth": 0,
             "ticks": ""
            },
            "type": "mesh3d"
           }
          ],
          "parcoords": [
           {
            "line": {
             "colorbar": {
              "outlinewidth": 0,
              "ticks": ""
             }
            },
            "type": "parcoords"
           }
          ],
          "pie": [
           {
            "automargin": true,
            "type": "pie"
           }
          ],
          "scatter": [
           {
            "fillpattern": {
             "fillmode": "overlay",
             "size": 10,
             "solidity": 0.2
            },
            "type": "scatter"
           }
          ],
          "scatter3d": [
           {
            "line": {
             "colorbar": {
              "outlinewidth": 0,
              "ticks": ""
             }
            },
            "marker": {
             "colorbar": {
              "outlinewidth": 0,
              "ticks": ""
             }
            },
            "type": "scatter3d"
           }
          ],
          "scattercarpet": [
           {
            "marker": {
             "colorbar": {
              "outlinewidth": 0,
              "ticks": ""
             }
            },
            "type": "scattercarpet"
           }
          ],
          "scattergeo": [
           {
            "marker": {
             "colorbar": {
              "outlinewidth": 0,
              "ticks": ""
             }
            },
            "type": "scattergeo"
           }
          ],
          "scattergl": [
           {
            "marker": {
             "colorbar": {
              "outlinewidth": 0,
              "ticks": ""
             }
            },
            "type": "scattergl"
           }
          ],
          "scattermapbox": [
           {
            "marker": {
             "colorbar": {
              "outlinewidth": 0,
              "ticks": ""
             }
            },
            "type": "scattermapbox"
           }
          ],
          "scatterpolar": [
           {
            "marker": {
             "colorbar": {
              "outlinewidth": 0,
              "ticks": ""
             }
            },
            "type": "scatterpolar"
           }
          ],
          "scatterpolargl": [
           {
            "marker": {
             "colorbar": {
              "outlinewidth": 0,
              "ticks": ""
             }
            },
            "type": "scatterpolargl"
           }
          ],
          "scatterternary": [
           {
            "marker": {
             "colorbar": {
              "outlinewidth": 0,
              "ticks": ""
             }
            },
            "type": "scatterternary"
           }
          ],
          "surface": [
           {
            "colorbar": {
             "outlinewidth": 0,
             "ticks": ""
            },
            "colorscale": [
             [
              0,
              "#0d0887"
             ],
             [
              0.1111111111111111,
              "#46039f"
             ],
             [
              0.2222222222222222,
              "#7201a8"
             ],
             [
              0.3333333333333333,
              "#9c179e"
             ],
             [
              0.4444444444444444,
              "#bd3786"
             ],
             [
              0.5555555555555556,
              "#d8576b"
             ],
             [
              0.6666666666666666,
              "#ed7953"
             ],
             [
              0.7777777777777778,
              "#fb9f3a"
             ],
             [
              0.8888888888888888,
              "#fdca26"
             ],
             [
              1,
              "#f0f921"
             ]
            ],
            "type": "surface"
           }
          ],
          "table": [
           {
            "cells": {
             "fill": {
              "color": "#EBF0F8"
             },
             "line": {
              "color": "white"
             }
            },
            "header": {
             "fill": {
              "color": "#C8D4E3"
             },
             "line": {
              "color": "white"
             }
            },
            "type": "table"
           }
          ]
         },
         "layout": {
          "annotationdefaults": {
           "arrowcolor": "#2a3f5f",
           "arrowhead": 0,
           "arrowwidth": 1
          },
          "autotypenumbers": "strict",
          "coloraxis": {
           "colorbar": {
            "outlinewidth": 0,
            "ticks": ""
           }
          },
          "colorscale": {
           "diverging": [
            [
             0,
             "#8e0152"
            ],
            [
             0.1,
             "#c51b7d"
            ],
            [
             0.2,
             "#de77ae"
            ],
            [
             0.3,
             "#f1b6da"
            ],
            [
             0.4,
             "#fde0ef"
            ],
            [
             0.5,
             "#f7f7f7"
            ],
            [
             0.6,
             "#e6f5d0"
            ],
            [
             0.7,
             "#b8e186"
            ],
            [
             0.8,
             "#7fbc41"
            ],
            [
             0.9,
             "#4d9221"
            ],
            [
             1,
             "#276419"
            ]
           ],
           "sequential": [
            [
             0,
             "#0d0887"
            ],
            [
             0.1111111111111111,
             "#46039f"
            ],
            [
             0.2222222222222222,
             "#7201a8"
            ],
            [
             0.3333333333333333,
             "#9c179e"
            ],
            [
             0.4444444444444444,
             "#bd3786"
            ],
            [
             0.5555555555555556,
             "#d8576b"
            ],
            [
             0.6666666666666666,
             "#ed7953"
            ],
            [
             0.7777777777777778,
             "#fb9f3a"
            ],
            [
             0.8888888888888888,
             "#fdca26"
            ],
            [
             1,
             "#f0f921"
            ]
           ],
           "sequentialminus": [
            [
             0,
             "#0d0887"
            ],
            [
             0.1111111111111111,
             "#46039f"
            ],
            [
             0.2222222222222222,
             "#7201a8"
            ],
            [
             0.3333333333333333,
             "#9c179e"
            ],
            [
             0.4444444444444444,
             "#bd3786"
            ],
            [
             0.5555555555555556,
             "#d8576b"
            ],
            [
             0.6666666666666666,
             "#ed7953"
            ],
            [
             0.7777777777777778,
             "#fb9f3a"
            ],
            [
             0.8888888888888888,
             "#fdca26"
            ],
            [
             1,
             "#f0f921"
            ]
           ]
          },
          "colorway": [
           "#636efa",
           "#EF553B",
           "#00cc96",
           "#ab63fa",
           "#FFA15A",
           "#19d3f3",
           "#FF6692",
           "#B6E880",
           "#FF97FF",
           "#FECB52"
          ],
          "font": {
           "color": "#2a3f5f"
          },
          "geo": {
           "bgcolor": "white",
           "lakecolor": "white",
           "landcolor": "#E5ECF6",
           "showlakes": true,
           "showland": true,
           "subunitcolor": "white"
          },
          "hoverlabel": {
           "align": "left"
          },
          "hovermode": "closest",
          "mapbox": {
           "style": "light"
          },
          "paper_bgcolor": "white",
          "plot_bgcolor": "#E5ECF6",
          "polar": {
           "angularaxis": {
            "gridcolor": "white",
            "linecolor": "white",
            "ticks": ""
           },
           "bgcolor": "#E5ECF6",
           "radialaxis": {
            "gridcolor": "white",
            "linecolor": "white",
            "ticks": ""
           }
          },
          "scene": {
           "xaxis": {
            "backgroundcolor": "#E5ECF6",
            "gridcolor": "white",
            "gridwidth": 2,
            "linecolor": "white",
            "showbackground": true,
            "ticks": "",
            "zerolinecolor": "white"
           },
           "yaxis": {
            "backgroundcolor": "#E5ECF6",
            "gridcolor": "white",
            "gridwidth": 2,
            "linecolor": "white",
            "showbackground": true,
            "ticks": "",
            "zerolinecolor": "white"
           },
           "zaxis": {
            "backgroundcolor": "#E5ECF6",
            "gridcolor": "white",
            "gridwidth": 2,
            "linecolor": "white",
            "showbackground": true,
            "ticks": "",
            "zerolinecolor": "white"
           }
          },
          "shapedefaults": {
           "line": {
            "color": "#2a3f5f"
           }
          },
          "ternary": {
           "aaxis": {
            "gridcolor": "white",
            "linecolor": "white",
            "ticks": ""
           },
           "baxis": {
            "gridcolor": "white",
            "linecolor": "white",
            "ticks": ""
           },
           "bgcolor": "#E5ECF6",
           "caxis": {
            "gridcolor": "white",
            "linecolor": "white",
            "ticks": ""
           }
          },
          "title": {
           "x": 0.05
          },
          "xaxis": {
           "automargin": true,
           "gridcolor": "white",
           "linecolor": "white",
           "ticks": "",
           "title": {
            "standoff": 15
           },
           "zerolinecolor": "white",
           "zerolinewidth": 2
          },
          "yaxis": {
           "automargin": true,
           "gridcolor": "white",
           "linecolor": "white",
           "ticks": "",
           "title": {
            "standoff": 15
           },
           "zerolinecolor": "white",
           "zerolinewidth": 2
          }
         }
        },
        "xaxis": {
         "anchor": "y",
         "domain": [
          0,
          1
         ],
         "title": {
          "text": "column"
         }
        },
        "yaxis": {
         "anchor": "x",
         "domain": [
          0,
          1
         ],
         "title": {
          "text": "value"
         }
        }
       }
      },
      "text/html": [
       "<div>                            <div id=\"09bae22d-49d6-4734-a437-161dbec97e5a\" class=\"plotly-graph-div\" style=\"height:525px; width:100%;\"></div>            <script type=\"text/javascript\">                require([\"plotly\"], function(Plotly) {                    window.PLOTLYENV=window.PLOTLYENV || {};                                    if (document.getElementById(\"09bae22d-49d6-4734-a437-161dbec97e5a\")) {                    Plotly.newPlot(                        \"09bae22d-49d6-4734-a437-161dbec97e5a\",                        [{\"alignmentgroup\":\"True\",\"hovertemplate\":\"column=%{x}<br>value=%{y}<extra></extra>\",\"legendgroup\":\"\",\"marker\":{\"color\":\"#636efa\",\"pattern\":{\"shape\":\"\"}},\"name\":\"\",\"offsetgroup\":\"\",\"orientation\":\"v\",\"showlegend\":false,\"textposition\":\"auto\",\"x\":[\"filed_online\",\"cad_number\",\"point\",\"longitude\",\"latitude\",\"supervisor_district\",\"analysis_neighborhood\",\"cnn\",\"intersection\",\"incident_category\",\"incident_subcategory\",\"police_district\",\"resolution\",\"incident_description\",\"incident_datetime\",\"incident_date\",\"report_type_description\",\"report_type_code\",\"incident_number\",\"incident_id\",\"row_id\",\"report_datetime\",\"incident_day_of_week\",\"incident_year\",\"incident_hour\",\"incident_month\",\"incident_time\",\"incident_code\"],\"xaxis\":\"x\",\"y\":[79.88,22.37,5.31,5.31,5.31,5.31,5.31,5.31,5.31,0.08,0.08,0.0,0.0,0.0,0.0,0.0,0.0,0.0,0.0,0.0,0.0,0.0,0.0,0.0,0.0,0.0,0.0,0.0],\"yaxis\":\"y\",\"type\":\"bar\"}],                        {\"template\":{\"data\":{\"histogram2dcontour\":[{\"type\":\"histogram2dcontour\",\"colorbar\":{\"outlinewidth\":0,\"ticks\":\"\"},\"colorscale\":[[0.0,\"#0d0887\"],[0.1111111111111111,\"#46039f\"],[0.2222222222222222,\"#7201a8\"],[0.3333333333333333,\"#9c179e\"],[0.4444444444444444,\"#bd3786\"],[0.5555555555555556,\"#d8576b\"],[0.6666666666666666,\"#ed7953\"],[0.7777777777777778,\"#fb9f3a\"],[0.8888888888888888,\"#fdca26\"],[1.0,\"#f0f921\"]]}],\"choropleth\":[{\"type\":\"choropleth\",\"colorbar\":{\"outlinewidth\":0,\"ticks\":\"\"}}],\"histogram2d\":[{\"type\":\"histogram2d\",\"colorbar\":{\"outlinewidth\":0,\"ticks\":\"\"},\"colorscale\":[[0.0,\"#0d0887\"],[0.1111111111111111,\"#46039f\"],[0.2222222222222222,\"#7201a8\"],[0.3333333333333333,\"#9c179e\"],[0.4444444444444444,\"#bd3786\"],[0.5555555555555556,\"#d8576b\"],[0.6666666666666666,\"#ed7953\"],[0.7777777777777778,\"#fb9f3a\"],[0.8888888888888888,\"#fdca26\"],[1.0,\"#f0f921\"]]}],\"heatmap\":[{\"type\":\"heatmap\",\"colorbar\":{\"outlinewidth\":0,\"ticks\":\"\"},\"colorscale\":[[0.0,\"#0d0887\"],[0.1111111111111111,\"#46039f\"],[0.2222222222222222,\"#7201a8\"],[0.3333333333333333,\"#9c179e\"],[0.4444444444444444,\"#bd3786\"],[0.5555555555555556,\"#d8576b\"],[0.6666666666666666,\"#ed7953\"],[0.7777777777777778,\"#fb9f3a\"],[0.8888888888888888,\"#fdca26\"],[1.0,\"#f0f921\"]]}],\"heatmapgl\":[{\"type\":\"heatmapgl\",\"colorbar\":{\"outlinewidth\":0,\"ticks\":\"\"},\"colorscale\":[[0.0,\"#0d0887\"],[0.1111111111111111,\"#46039f\"],[0.2222222222222222,\"#7201a8\"],[0.3333333333333333,\"#9c179e\"],[0.4444444444444444,\"#bd3786\"],[0.5555555555555556,\"#d8576b\"],[0.6666666666666666,\"#ed7953\"],[0.7777777777777778,\"#fb9f3a\"],[0.8888888888888888,\"#fdca26\"],[1.0,\"#f0f921\"]]}],\"contourcarpet\":[{\"type\":\"contourcarpet\",\"colorbar\":{\"outlinewidth\":0,\"ticks\":\"\"}}],\"contour\":[{\"type\":\"contour\",\"colorbar\":{\"outlinewidth\":0,\"ticks\":\"\"},\"colorscale\":[[0.0,\"#0d0887\"],[0.1111111111111111,\"#46039f\"],[0.2222222222222222,\"#7201a8\"],[0.3333333333333333,\"#9c179e\"],[0.4444444444444444,\"#bd3786\"],[0.5555555555555556,\"#d8576b\"],[0.6666666666666666,\"#ed7953\"],[0.7777777777777778,\"#fb9f3a\"],[0.8888888888888888,\"#fdca26\"],[1.0,\"#f0f921\"]]}],\"surface\":[{\"type\":\"surface\",\"colorbar\":{\"outlinewidth\":0,\"ticks\":\"\"},\"colorscale\":[[0.0,\"#0d0887\"],[0.1111111111111111,\"#46039f\"],[0.2222222222222222,\"#7201a8\"],[0.3333333333333333,\"#9c179e\"],[0.4444444444444444,\"#bd3786\"],[0.5555555555555556,\"#d8576b\"],[0.6666666666666666,\"#ed7953\"],[0.7777777777777778,\"#fb9f3a\"],[0.8888888888888888,\"#fdca26\"],[1.0,\"#f0f921\"]]}],\"mesh3d\":[{\"type\":\"mesh3d\",\"colorbar\":{\"outlinewidth\":0,\"ticks\":\"\"}}],\"scatter\":[{\"fillpattern\":{\"fillmode\":\"overlay\",\"size\":10,\"solidity\":0.2},\"type\":\"scatter\"}],\"parcoords\":[{\"type\":\"parcoords\",\"line\":{\"colorbar\":{\"outlinewidth\":0,\"ticks\":\"\"}}}],\"scatterpolargl\":[{\"type\":\"scatterpolargl\",\"marker\":{\"colorbar\":{\"outlinewidth\":0,\"ticks\":\"\"}}}],\"bar\":[{\"error_x\":{\"color\":\"#2a3f5f\"},\"error_y\":{\"color\":\"#2a3f5f\"},\"marker\":{\"line\":{\"color\":\"#E5ECF6\",\"width\":0.5},\"pattern\":{\"fillmode\":\"overlay\",\"size\":10,\"solidity\":0.2}},\"type\":\"bar\"}],\"scattergeo\":[{\"type\":\"scattergeo\",\"marker\":{\"colorbar\":{\"outlinewidth\":0,\"ticks\":\"\"}}}],\"scatterpolar\":[{\"type\":\"scatterpolar\",\"marker\":{\"colorbar\":{\"outlinewidth\":0,\"ticks\":\"\"}}}],\"histogram\":[{\"marker\":{\"pattern\":{\"fillmode\":\"overlay\",\"size\":10,\"solidity\":0.2}},\"type\":\"histogram\"}],\"scattergl\":[{\"type\":\"scattergl\",\"marker\":{\"colorbar\":{\"outlinewidth\":0,\"ticks\":\"\"}}}],\"scatter3d\":[{\"type\":\"scatter3d\",\"line\":{\"colorbar\":{\"outlinewidth\":0,\"ticks\":\"\"}},\"marker\":{\"colorbar\":{\"outlinewidth\":0,\"ticks\":\"\"}}}],\"scattermapbox\":[{\"type\":\"scattermapbox\",\"marker\":{\"colorbar\":{\"outlinewidth\":0,\"ticks\":\"\"}}}],\"scatterternary\":[{\"type\":\"scatterternary\",\"marker\":{\"colorbar\":{\"outlinewidth\":0,\"ticks\":\"\"}}}],\"scattercarpet\":[{\"type\":\"scattercarpet\",\"marker\":{\"colorbar\":{\"outlinewidth\":0,\"ticks\":\"\"}}}],\"carpet\":[{\"aaxis\":{\"endlinecolor\":\"#2a3f5f\",\"gridcolor\":\"white\",\"linecolor\":\"white\",\"minorgridcolor\":\"white\",\"startlinecolor\":\"#2a3f5f\"},\"baxis\":{\"endlinecolor\":\"#2a3f5f\",\"gridcolor\":\"white\",\"linecolor\":\"white\",\"minorgridcolor\":\"white\",\"startlinecolor\":\"#2a3f5f\"},\"type\":\"carpet\"}],\"table\":[{\"cells\":{\"fill\":{\"color\":\"#EBF0F8\"},\"line\":{\"color\":\"white\"}},\"header\":{\"fill\":{\"color\":\"#C8D4E3\"},\"line\":{\"color\":\"white\"}},\"type\":\"table\"}],\"barpolar\":[{\"marker\":{\"line\":{\"color\":\"#E5ECF6\",\"width\":0.5},\"pattern\":{\"fillmode\":\"overlay\",\"size\":10,\"solidity\":0.2}},\"type\":\"barpolar\"}],\"pie\":[{\"automargin\":true,\"type\":\"pie\"}]},\"layout\":{\"autotypenumbers\":\"strict\",\"colorway\":[\"#636efa\",\"#EF553B\",\"#00cc96\",\"#ab63fa\",\"#FFA15A\",\"#19d3f3\",\"#FF6692\",\"#B6E880\",\"#FF97FF\",\"#FECB52\"],\"font\":{\"color\":\"#2a3f5f\"},\"hovermode\":\"closest\",\"hoverlabel\":{\"align\":\"left\"},\"paper_bgcolor\":\"white\",\"plot_bgcolor\":\"#E5ECF6\",\"polar\":{\"bgcolor\":\"#E5ECF6\",\"angularaxis\":{\"gridcolor\":\"white\",\"linecolor\":\"white\",\"ticks\":\"\"},\"radialaxis\":{\"gridcolor\":\"white\",\"linecolor\":\"white\",\"ticks\":\"\"}},\"ternary\":{\"bgcolor\":\"#E5ECF6\",\"aaxis\":{\"gridcolor\":\"white\",\"linecolor\":\"white\",\"ticks\":\"\"},\"baxis\":{\"gridcolor\":\"white\",\"linecolor\":\"white\",\"ticks\":\"\"},\"caxis\":{\"gridcolor\":\"white\",\"linecolor\":\"white\",\"ticks\":\"\"}},\"coloraxis\":{\"colorbar\":{\"outlinewidth\":0,\"ticks\":\"\"}},\"colorscale\":{\"sequential\":[[0.0,\"#0d0887\"],[0.1111111111111111,\"#46039f\"],[0.2222222222222222,\"#7201a8\"],[0.3333333333333333,\"#9c179e\"],[0.4444444444444444,\"#bd3786\"],[0.5555555555555556,\"#d8576b\"],[0.6666666666666666,\"#ed7953\"],[0.7777777777777778,\"#fb9f3a\"],[0.8888888888888888,\"#fdca26\"],[1.0,\"#f0f921\"]],\"sequentialminus\":[[0.0,\"#0d0887\"],[0.1111111111111111,\"#46039f\"],[0.2222222222222222,\"#7201a8\"],[0.3333333333333333,\"#9c179e\"],[0.4444444444444444,\"#bd3786\"],[0.5555555555555556,\"#d8576b\"],[0.6666666666666666,\"#ed7953\"],[0.7777777777777778,\"#fb9f3a\"],[0.8888888888888888,\"#fdca26\"],[1.0,\"#f0f921\"]],\"diverging\":[[0,\"#8e0152\"],[0.1,\"#c51b7d\"],[0.2,\"#de77ae\"],[0.3,\"#f1b6da\"],[0.4,\"#fde0ef\"],[0.5,\"#f7f7f7\"],[0.6,\"#e6f5d0\"],[0.7,\"#b8e186\"],[0.8,\"#7fbc41\"],[0.9,\"#4d9221\"],[1,\"#276419\"]]},\"xaxis\":{\"gridcolor\":\"white\",\"linecolor\":\"white\",\"ticks\":\"\",\"title\":{\"standoff\":15},\"zerolinecolor\":\"white\",\"automargin\":true,\"zerolinewidth\":2},\"yaxis\":{\"gridcolor\":\"white\",\"linecolor\":\"white\",\"ticks\":\"\",\"title\":{\"standoff\":15},\"zerolinecolor\":\"white\",\"automargin\":true,\"zerolinewidth\":2},\"scene\":{\"xaxis\":{\"backgroundcolor\":\"#E5ECF6\",\"gridcolor\":\"white\",\"linecolor\":\"white\",\"showbackground\":true,\"ticks\":\"\",\"zerolinecolor\":\"white\",\"gridwidth\":2},\"yaxis\":{\"backgroundcolor\":\"#E5ECF6\",\"gridcolor\":\"white\",\"linecolor\":\"white\",\"showbackground\":true,\"ticks\":\"\",\"zerolinecolor\":\"white\",\"gridwidth\":2},\"zaxis\":{\"backgroundcolor\":\"#E5ECF6\",\"gridcolor\":\"white\",\"linecolor\":\"white\",\"showbackground\":true,\"ticks\":\"\",\"zerolinecolor\":\"white\",\"gridwidth\":2}},\"shapedefaults\":{\"line\":{\"color\":\"#2a3f5f\"}},\"annotationdefaults\":{\"arrowcolor\":\"#2a3f5f\",\"arrowhead\":0,\"arrowwidth\":1},\"geo\":{\"bgcolor\":\"white\",\"landcolor\":\"#E5ECF6\",\"subunitcolor\":\"white\",\"showland\":true,\"showlakes\":true,\"lakecolor\":\"white\"},\"title\":{\"x\":0.05},\"mapbox\":{\"style\":\"light\"}}},\"xaxis\":{\"anchor\":\"y\",\"domain\":[0.0,1.0],\"title\":{\"text\":\"column\"}},\"yaxis\":{\"anchor\":\"x\",\"domain\":[0.0,1.0],\"title\":{\"text\":\"value\"}},\"legend\":{\"tracegroupgap\":0},\"margin\":{\"t\":60},\"barmode\":\"relative\"},                        {\"responsive\": true}                    ).then(function(){\n",
       "                            \n",
       "var gd = document.getElementById('09bae22d-49d6-4734-a437-161dbec97e5a');\n",
       "var x = new MutationObserver(function (mutations, observer) {{\n",
       "        var display = window.getComputedStyle(gd).display;\n",
       "        if (!display || display === 'none') {{\n",
       "            console.log([gd, 'removed!']);\n",
       "            Plotly.purge(gd);\n",
       "            observer.disconnect();\n",
       "        }}\n",
       "}});\n",
       "\n",
       "// Listen for the removal of the full notebook cells\n",
       "var notebookContainer = gd.closest('#notebook-container');\n",
       "if (notebookContainer) {{\n",
       "    x.observe(notebookContainer, {childList: true});\n",
       "}}\n",
       "\n",
       "// Listen for the clearing of the current output cell\n",
       "var outputEl = gd.closest('.output');\n",
       "if (outputEl) {{\n",
       "    x.observe(outputEl, {childList: true});\n",
       "}}\n",
       "\n",
       "                        })                };                });            </script>        </div>"
      ]
     },
     "metadata": {},
     "output_type": "display_data"
    }
   ],
   "source": [
    "col_nan_df = pd.json_normalize(nan_col_dict).transpose().reset_index().rename({0: \"value\", \"index\": \"column\"}, axis = 1).sort_values(by = \"value\", ascending = False)\n",
    "\n",
    "\n",
    "exp.bar(col_nan_df, x = \"column\", y = \"value\", )"
   ]
  },
  {
   "cell_type": "code",
   "execution_count": 216,
   "metadata": {
    "execution": {
     "iopub.execute_input": "2023-02-13T16:53:27.064807Z",
     "iopub.status.busy": "2023-02-13T16:53:27.064349Z",
     "iopub.status.idle": "2023-02-13T16:53:27.093724Z",
     "shell.execute_reply": "2023-02-13T16:53:27.092510Z",
     "shell.execute_reply.started": "2023-02-13T16:53:27.064774Z"
    }
   },
   "outputs": [
    {
     "data": {
      "text/html": [
       "<div>\n",
       "<style scoped>\n",
       "    .dataframe tbody tr th:only-of-type {\n",
       "        vertical-align: middle;\n",
       "    }\n",
       "\n",
       "    .dataframe tbody tr th {\n",
       "        vertical-align: top;\n",
       "    }\n",
       "\n",
       "    .dataframe thead th {\n",
       "        text-align: right;\n",
       "    }\n",
       "</style>\n",
       "<table border=\"1\" class=\"dataframe\">\n",
       "  <thead>\n",
       "    <tr style=\"text-align: right;\">\n",
       "      <th></th>\n",
       "      <th>incident_datetime</th>\n",
       "      <th>incident_date</th>\n",
       "      <th>incident_time</th>\n",
       "      <th>incident_month</th>\n",
       "      <th>incident_hour</th>\n",
       "      <th>incident_year</th>\n",
       "      <th>incident_day_of_week</th>\n",
       "      <th>report_datetime</th>\n",
       "      <th>row_id</th>\n",
       "      <th>incident_id</th>\n",
       "      <th>...</th>\n",
       "      <th>resolution</th>\n",
       "      <th>police_district</th>\n",
       "      <th>cad_number</th>\n",
       "      <th>intersection</th>\n",
       "      <th>cnn</th>\n",
       "      <th>analysis_neighborhood</th>\n",
       "      <th>supervisor_district</th>\n",
       "      <th>latitude</th>\n",
       "      <th>longitude</th>\n",
       "      <th>point</th>\n",
       "    </tr>\n",
       "  </thead>\n",
       "  <tbody>\n",
       "    <tr>\n",
       "      <th>0</th>\n",
       "      <td>2021-07-25 00:00:00</td>\n",
       "      <td>2021-07-25</td>\n",
       "      <td>00:00</td>\n",
       "      <td>07</td>\n",
       "      <td>0</td>\n",
       "      <td>2021</td>\n",
       "      <td>Sunday</td>\n",
       "      <td>2021-07-25 13:41:00</td>\n",
       "      <td>105718906372</td>\n",
       "      <td>1057189</td>\n",
       "      <td>...</td>\n",
       "      <td>Open or Active</td>\n",
       "      <td>Southern</td>\n",
       "      <td>NaN</td>\n",
       "      <td>NaN</td>\n",
       "      <td>NaN</td>\n",
       "      <td>NaN</td>\n",
       "      <td>NaN</td>\n",
       "      <td>NaN</td>\n",
       "      <td>NaN</td>\n",
       "      <td>NaN</td>\n",
       "    </tr>\n",
       "    <tr>\n",
       "      <th>1</th>\n",
       "      <td>2022-06-28 23:58:00</td>\n",
       "      <td>2022-06-28</td>\n",
       "      <td>23:58</td>\n",
       "      <td>06</td>\n",
       "      <td>23</td>\n",
       "      <td>2022</td>\n",
       "      <td>Tuesday</td>\n",
       "      <td>2022-06-28 23:58:00</td>\n",
       "      <td>116554371012</td>\n",
       "      <td>1165543</td>\n",
       "      <td>...</td>\n",
       "      <td>Open or Active</td>\n",
       "      <td>Out of SF</td>\n",
       "      <td>NaN</td>\n",
       "      <td>NaN</td>\n",
       "      <td>NaN</td>\n",
       "      <td>NaN</td>\n",
       "      <td>NaN</td>\n",
       "      <td>NaN</td>\n",
       "      <td>NaN</td>\n",
       "      <td>NaN</td>\n",
       "    </tr>\n",
       "    <tr>\n",
       "      <th>2</th>\n",
       "      <td>2022-03-11 10:30:00</td>\n",
       "      <td>2022-03-11</td>\n",
       "      <td>10:30</td>\n",
       "      <td>03</td>\n",
       "      <td>10</td>\n",
       "      <td>2022</td>\n",
       "      <td>Friday</td>\n",
       "      <td>2022-03-11 20:03:00</td>\n",
       "      <td>113048071000</td>\n",
       "      <td>1130480</td>\n",
       "      <td>...</td>\n",
       "      <td>Open or Active</td>\n",
       "      <td>Central</td>\n",
       "      <td>NaN</td>\n",
       "      <td>NaN</td>\n",
       "      <td>NaN</td>\n",
       "      <td>NaN</td>\n",
       "      <td>NaN</td>\n",
       "      <td>NaN</td>\n",
       "      <td>NaN</td>\n",
       "      <td>NaN</td>\n",
       "    </tr>\n",
       "  </tbody>\n",
       "</table>\n",
       "<p>3 rows × 28 columns</p>\n",
       "</div>"
      ],
      "text/plain": [
       "    incident_datetime incident_date incident_time incident_month  \\\n",
       "0 2021-07-25 00:00:00    2021-07-25         00:00             07   \n",
       "1 2022-06-28 23:58:00    2022-06-28         23:58             06   \n",
       "2 2022-03-11 10:30:00    2022-03-11         10:30             03   \n",
       "\n",
       "   incident_hour  incident_year incident_day_of_week     report_datetime  \\\n",
       "0              0           2021               Sunday 2021-07-25 13:41:00   \n",
       "1             23           2022              Tuesday 2022-06-28 23:58:00   \n",
       "2             10           2022               Friday 2022-03-11 20:03:00   \n",
       "\n",
       "         row_id incident_id  ...      resolution police_district cad_number  \\\n",
       "0  105718906372     1057189  ...  Open or Active        Southern        NaN   \n",
       "1  116554371012     1165543  ...  Open or Active       Out of SF        NaN   \n",
       "2  113048071000     1130480  ...  Open or Active         Central        NaN   \n",
       "\n",
       "  intersection  cnn analysis_neighborhood supervisor_district latitude  \\\n",
       "0          NaN  NaN                   NaN                 NaN      NaN   \n",
       "1          NaN  NaN                   NaN                 NaN      NaN   \n",
       "2          NaN  NaN                   NaN                 NaN      NaN   \n",
       "\n",
       "  longitude point  \n",
       "0       NaN   NaN  \n",
       "1       NaN   NaN  \n",
       "2       NaN   NaN  \n",
       "\n",
       "[3 rows x 28 columns]"
      ]
     },
     "execution_count": 216,
     "metadata": {},
     "output_type": "execute_result"
    }
   ],
   "source": [
    "crime_df.head(3)"
   ]
  },
  {
   "cell_type": "code",
   "execution_count": 217,
   "metadata": {
    "execution": {
     "iopub.execute_input": "2023-02-13T16:53:27.095538Z",
     "iopub.status.busy": "2023-02-13T16:53:27.095216Z",
     "iopub.status.idle": "2023-02-13T16:53:27.748447Z",
     "shell.execute_reply": "2023-02-13T16:53:27.747134Z",
     "shell.execute_reply.started": "2023-02-13T16:53:27.095509Z"
    }
   },
   "outputs": [
    {
     "data": {
      "text/html": [
       "<div>\n",
       "<style scoped>\n",
       "    .dataframe tbody tr th:only-of-type {\n",
       "        vertical-align: middle;\n",
       "    }\n",
       "\n",
       "    .dataframe tbody tr th {\n",
       "        vertical-align: top;\n",
       "    }\n",
       "\n",
       "    .dataframe thead th {\n",
       "        text-align: right;\n",
       "    }\n",
       "</style>\n",
       "<table border=\"1\" class=\"dataframe\">\n",
       "  <thead>\n",
       "    <tr style=\"text-align: right;\">\n",
       "      <th></th>\n",
       "      <th></th>\n",
       "      <th>incident_id</th>\n",
       "    </tr>\n",
       "    <tr>\n",
       "      <th>incident_category</th>\n",
       "      <th>incident_subcategory</th>\n",
       "      <th></th>\n",
       "    </tr>\n",
       "  </thead>\n",
       "  <tbody>\n",
       "    <tr>\n",
       "      <th rowspan=\"9\" valign=\"top\">Larceny Theft</th>\n",
       "      <th>Larceny - From Vehicle</th>\n",
       "      <td>120018</td>\n",
       "    </tr>\n",
       "    <tr>\n",
       "      <th>Larceny Theft - Other</th>\n",
       "      <td>48695</td>\n",
       "    </tr>\n",
       "    <tr>\n",
       "      <th>Larceny Theft - Shoplifting</th>\n",
       "      <td>13377</td>\n",
       "    </tr>\n",
       "    <tr>\n",
       "      <th>Larceny Theft - From Building</th>\n",
       "      <td>11390</td>\n",
       "    </tr>\n",
       "    <tr>\n",
       "      <th>Theft From Vehicle</th>\n",
       "      <td>10385</td>\n",
       "    </tr>\n",
       "    <tr>\n",
       "      <th>Larceny Theft - Bicycle</th>\n",
       "      <td>2541</td>\n",
       "    </tr>\n",
       "    <tr>\n",
       "      <th>Larceny - Auto Parts</th>\n",
       "      <td>2513</td>\n",
       "    </tr>\n",
       "    <tr>\n",
       "      <th>Larceny Theft - Pickpocket</th>\n",
       "      <td>2328</td>\n",
       "    </tr>\n",
       "    <tr>\n",
       "      <th>Larceny Theft - Purse Snatch</th>\n",
       "      <td>130</td>\n",
       "    </tr>\n",
       "  </tbody>\n",
       "</table>\n",
       "</div>"
      ],
      "text/plain": [
       "                                                 incident_id\n",
       "incident_category incident_subcategory                      \n",
       "Larceny Theft     Larceny - From Vehicle              120018\n",
       "                  Larceny Theft - Other                48695\n",
       "                  Larceny Theft - Shoplifting          13377\n",
       "                  Larceny Theft - From Building        11390\n",
       "                  Theft From Vehicle                   10385\n",
       "                  Larceny Theft - Bicycle               2541\n",
       "                  Larceny - Auto Parts                  2513\n",
       "                  Larceny Theft - Pickpocket            2328\n",
       "                  Larceny Theft - Purse Snatch           130"
      ]
     },
     "execution_count": 217,
     "metadata": {},
     "output_type": "execute_result"
    }
   ],
   "source": [
    "crime_df[crime_df.incident_category == \"Larceny Theft\"].groupby(['incident_category', 'incident_subcategory']).agg({\"incident_id\": pd.Series.count}).sort_values(by = \"incident_id\", ascending = False).head(20)"
   ]
  },
  {
   "cell_type": "code",
   "execution_count": 218,
   "metadata": {
    "execution": {
     "iopub.execute_input": "2023-02-13T16:53:27.751959Z",
     "iopub.status.busy": "2023-02-13T16:53:27.750716Z",
     "iopub.status.idle": "2023-02-13T16:53:28.094128Z",
     "shell.execute_reply": "2023-02-13T16:53:28.093235Z",
     "shell.execute_reply.started": "2023-02-13T16:53:27.751896Z"
    }
   },
   "outputs": [],
   "source": [
    "larceny_df = crime_df[crime_df.incident_category == \"Larceny Theft\"]"
   ]
  },
  {
   "cell_type": "code",
   "execution_count": 219,
   "metadata": {
    "execution": {
     "iopub.execute_input": "2023-02-13T16:53:28.095717Z",
     "iopub.status.busy": "2023-02-13T16:53:28.095397Z",
     "iopub.status.idle": "2023-02-13T16:53:28.601795Z",
     "shell.execute_reply": "2023-02-13T16:53:28.600639Z",
     "shell.execute_reply.started": "2023-02-13T16:53:28.095686Z"
    }
   },
   "outputs": [],
   "source": [
    "lar_df = larceny_df.replace(\"Theft From Vehicle\", \"Larceny - From Vehicle\")"
   ]
  },
  {
   "cell_type": "code",
   "execution_count": 220,
   "metadata": {
    "execution": {
     "iopub.execute_input": "2023-02-13T16:53:28.603733Z",
     "iopub.status.busy": "2023-02-13T16:53:28.603299Z",
     "iopub.status.idle": "2023-02-13T16:53:28.752530Z",
     "shell.execute_reply": "2023-02-13T16:53:28.751274Z",
     "shell.execute_reply.started": "2023-02-13T16:53:28.603700Z"
    }
   },
   "outputs": [
    {
     "data": {
      "text/html": [
       "<div>\n",
       "<style scoped>\n",
       "    .dataframe tbody tr th:only-of-type {\n",
       "        vertical-align: middle;\n",
       "    }\n",
       "\n",
       "    .dataframe tbody tr th {\n",
       "        vertical-align: top;\n",
       "    }\n",
       "\n",
       "    .dataframe thead th {\n",
       "        text-align: right;\n",
       "    }\n",
       "</style>\n",
       "<table border=\"1\" class=\"dataframe\">\n",
       "  <thead>\n",
       "    <tr style=\"text-align: right;\">\n",
       "      <th></th>\n",
       "      <th>incident_id</th>\n",
       "    </tr>\n",
       "    <tr>\n",
       "      <th>incident_subcategory</th>\n",
       "      <th></th>\n",
       "    </tr>\n",
       "  </thead>\n",
       "  <tbody>\n",
       "    <tr>\n",
       "      <th>Larceny - From Vehicle</th>\n",
       "      <td>130403</td>\n",
       "    </tr>\n",
       "    <tr>\n",
       "      <th>Larceny Theft - Other</th>\n",
       "      <td>48695</td>\n",
       "    </tr>\n",
       "    <tr>\n",
       "      <th>Larceny Theft - Shoplifting</th>\n",
       "      <td>13377</td>\n",
       "    </tr>\n",
       "    <tr>\n",
       "      <th>Larceny Theft - From Building</th>\n",
       "      <td>11390</td>\n",
       "    </tr>\n",
       "    <tr>\n",
       "      <th>Larceny Theft - Bicycle</th>\n",
       "      <td>2541</td>\n",
       "    </tr>\n",
       "    <tr>\n",
       "      <th>Larceny - Auto Parts</th>\n",
       "      <td>2513</td>\n",
       "    </tr>\n",
       "    <tr>\n",
       "      <th>Larceny Theft - Pickpocket</th>\n",
       "      <td>2328</td>\n",
       "    </tr>\n",
       "    <tr>\n",
       "      <th>Larceny Theft - Purse Snatch</th>\n",
       "      <td>130</td>\n",
       "    </tr>\n",
       "  </tbody>\n",
       "</table>\n",
       "</div>"
      ],
      "text/plain": [
       "                               incident_id\n",
       "incident_subcategory                      \n",
       "Larceny - From Vehicle              130403\n",
       "Larceny Theft - Other                48695\n",
       "Larceny Theft - Shoplifting          13377\n",
       "Larceny Theft - From Building        11390\n",
       "Larceny Theft - Bicycle               2541\n",
       "Larceny - Auto Parts                  2513\n",
       "Larceny Theft - Pickpocket            2328\n",
       "Larceny Theft - Purse Snatch           130"
      ]
     },
     "execution_count": 220,
     "metadata": {},
     "output_type": "execute_result"
    }
   ],
   "source": [
    "lar_df.groupby(\"incident_subcategory\").agg({\"incident_id\": pd.Series.count}).sort_values(by = \"incident_id\", ascending = False)"
   ]
  },
  {
   "cell_type": "code",
   "execution_count": 221,
   "metadata": {
    "execution": {
     "iopub.execute_input": "2023-02-13T16:53:28.754349Z",
     "iopub.status.busy": "2023-02-13T16:53:28.753915Z",
     "iopub.status.idle": "2023-02-13T16:53:29.703007Z",
     "shell.execute_reply": "2023-02-13T16:53:29.701971Z",
     "shell.execute_reply.started": "2023-02-13T16:53:28.754303Z"
    }
   },
   "outputs": [],
   "source": [
    "# filed_online, cad_number, supervisor_district, analysis_neighborhood, cnn, intersection\n",
    "\n",
    "\n",
    "crime_df = crime_df.drop(columns = ['filed_online', 'cad_number', 'supervisor_district', 'analysis_neighborhood', 'cnn', 'intersection'])\n",
    "\n",
    "\n",
    "lar_df = lar_df.drop(columns = ['filed_online', 'cad_number', 'supervisor_district', 'analysis_neighborhood', 'cnn', 'intersection'])\n",
    "\n",
    "\n"
   ]
  },
  {
   "cell_type": "code",
   "execution_count": 222,
   "metadata": {
    "execution": {
     "iopub.execute_input": "2023-02-13T16:53:29.704790Z",
     "iopub.status.busy": "2023-02-13T16:53:29.704361Z",
     "iopub.status.idle": "2023-02-13T16:53:32.304425Z",
     "shell.execute_reply": "2023-02-13T16:53:32.303189Z",
     "shell.execute_reply.started": "2023-02-13T16:53:29.704730Z"
    }
   },
   "outputs": [],
   "source": [
    "# crime_df = crime_df.dropna(how = 'any', axis = 0)\n",
    "\n",
    "\n",
    "# lar_df = lar_df.dropna(how = 'any', axis = 0)"
   ]
  },
  {
   "cell_type": "code",
   "execution_count": 223,
   "metadata": {
    "execution": {
     "iopub.execute_input": "2023-02-13T16:53:32.306333Z",
     "iopub.status.busy": "2023-02-13T16:53:32.305913Z",
     "iopub.status.idle": "2023-02-13T16:53:32.314244Z",
     "shell.execute_reply": "2023-02-13T16:53:32.312948Z",
     "shell.execute_reply.started": "2023-02-13T16:53:32.306302Z"
    }
   },
   "outputs": [
    {
     "data": {
      "text/plain": [
       "((211377, 22), (693201, 22))"
      ]
     },
     "execution_count": 223,
     "metadata": {},
     "output_type": "execute_result"
    }
   ],
   "source": [
    "lar_df.shape, crime_df.shape"
   ]
  },
  {
   "cell_type": "code",
   "execution_count": 224,
   "metadata": {
    "execution": {
     "iopub.execute_input": "2023-02-13T16:53:32.321744Z",
     "iopub.status.busy": "2023-02-13T16:53:32.321257Z",
     "iopub.status.idle": "2023-02-13T16:53:32.355824Z",
     "shell.execute_reply": "2023-02-13T16:53:32.354649Z",
     "shell.execute_reply.started": "2023-02-13T16:53:32.321686Z"
    }
   },
   "outputs": [
    {
     "data": {
      "text/html": [
       "<div>\n",
       "<style scoped>\n",
       "    .dataframe tbody tr th:only-of-type {\n",
       "        vertical-align: middle;\n",
       "    }\n",
       "\n",
       "    .dataframe tbody tr th {\n",
       "        vertical-align: top;\n",
       "    }\n",
       "\n",
       "    .dataframe thead th {\n",
       "        text-align: right;\n",
       "    }\n",
       "</style>\n",
       "<table border=\"1\" class=\"dataframe\">\n",
       "  <thead>\n",
       "    <tr style=\"text-align: right;\">\n",
       "      <th></th>\n",
       "      <th>incident_datetime</th>\n",
       "      <th>incident_date</th>\n",
       "      <th>incident_time</th>\n",
       "      <th>incident_month</th>\n",
       "      <th>incident_hour</th>\n",
       "      <th>incident_year</th>\n",
       "      <th>incident_day_of_week</th>\n",
       "      <th>report_datetime</th>\n",
       "      <th>row_id</th>\n",
       "      <th>incident_id</th>\n",
       "      <th>...</th>\n",
       "      <th>report_type_description</th>\n",
       "      <th>incident_code</th>\n",
       "      <th>incident_category</th>\n",
       "      <th>incident_subcategory</th>\n",
       "      <th>incident_description</th>\n",
       "      <th>resolution</th>\n",
       "      <th>police_district</th>\n",
       "      <th>latitude</th>\n",
       "      <th>longitude</th>\n",
       "      <th>point</th>\n",
       "    </tr>\n",
       "  </thead>\n",
       "  <tbody>\n",
       "    <tr>\n",
       "      <th>0</th>\n",
       "      <td>2021-07-25 00:00:00</td>\n",
       "      <td>2021-07-25</td>\n",
       "      <td>00:00</td>\n",
       "      <td>07</td>\n",
       "      <td>0</td>\n",
       "      <td>2021</td>\n",
       "      <td>Sunday</td>\n",
       "      <td>2021-07-25 13:41:00</td>\n",
       "      <td>105718906372</td>\n",
       "      <td>1057189</td>\n",
       "      <td>...</td>\n",
       "      <td>Coplogic Initial</td>\n",
       "      <td>06372</td>\n",
       "      <td>Larceny Theft</td>\n",
       "      <td>Larceny Theft - Other</td>\n",
       "      <td>Theft, Other Property, $50-$200</td>\n",
       "      <td>Open or Active</td>\n",
       "      <td>Southern</td>\n",
       "      <td>NaN</td>\n",
       "      <td>NaN</td>\n",
       "      <td>NaN</td>\n",
       "    </tr>\n",
       "    <tr>\n",
       "      <th>6</th>\n",
       "      <td>2022-06-28 14:00:00</td>\n",
       "      <td>2022-06-28</td>\n",
       "      <td>14:00</td>\n",
       "      <td>06</td>\n",
       "      <td>14</td>\n",
       "      <td>2022</td>\n",
       "      <td>Tuesday</td>\n",
       "      <td>2022-06-28 15:09:00</td>\n",
       "      <td>116546206244</td>\n",
       "      <td>1165462</td>\n",
       "      <td>...</td>\n",
       "      <td>Coplogic Initial</td>\n",
       "      <td>06244</td>\n",
       "      <td>Larceny Theft</td>\n",
       "      <td>Larceny - From Vehicle</td>\n",
       "      <td>Theft, From Locked Vehicle, &gt;$950</td>\n",
       "      <td>Open or Active</td>\n",
       "      <td>Richmond</td>\n",
       "      <td>NaN</td>\n",
       "      <td>NaN</td>\n",
       "      <td>NaN</td>\n",
       "    </tr>\n",
       "    <tr>\n",
       "      <th>7</th>\n",
       "      <td>2022-08-07 22:00:00</td>\n",
       "      <td>2022-08-07</td>\n",
       "      <td>22:00</td>\n",
       "      <td>08</td>\n",
       "      <td>22</td>\n",
       "      <td>2022</td>\n",
       "      <td>Sunday</td>\n",
       "      <td>2022-08-16 15:26:00</td>\n",
       "      <td>118277206374</td>\n",
       "      <td>1182772</td>\n",
       "      <td>...</td>\n",
       "      <td>Coplogic Initial</td>\n",
       "      <td>06374</td>\n",
       "      <td>Larceny Theft</td>\n",
       "      <td>Larceny Theft - Other</td>\n",
       "      <td>Theft, Other Property, &gt;$950</td>\n",
       "      <td>Open or Active</td>\n",
       "      <td>Richmond</td>\n",
       "      <td>NaN</td>\n",
       "      <td>NaN</td>\n",
       "      <td>NaN</td>\n",
       "    </tr>\n",
       "    <tr>\n",
       "      <th>12</th>\n",
       "      <td>2022-06-23 00:00:00</td>\n",
       "      <td>2022-06-23</td>\n",
       "      <td>00:00</td>\n",
       "      <td>06</td>\n",
       "      <td>0</td>\n",
       "      <td>2022</td>\n",
       "      <td>Thursday</td>\n",
       "      <td>2022-06-28 00:03:00</td>\n",
       "      <td>116550406224</td>\n",
       "      <td>1165504</td>\n",
       "      <td>...</td>\n",
       "      <td>Coplogic Initial</td>\n",
       "      <td>06224</td>\n",
       "      <td>Larceny Theft</td>\n",
       "      <td>Larceny - From Vehicle</td>\n",
       "      <td>Theft, From Unlocked Vehicle, &gt;$950</td>\n",
       "      <td>Open or Active</td>\n",
       "      <td>Mission</td>\n",
       "      <td>NaN</td>\n",
       "      <td>NaN</td>\n",
       "      <td>NaN</td>\n",
       "    </tr>\n",
       "    <tr>\n",
       "      <th>14</th>\n",
       "      <td>2021-09-28 20:00:00</td>\n",
       "      <td>2021-09-28</td>\n",
       "      <td>20:00</td>\n",
       "      <td>09</td>\n",
       "      <td>20</td>\n",
       "      <td>2021</td>\n",
       "      <td>Tuesday</td>\n",
       "      <td>2021-09-30 09:41:00</td>\n",
       "      <td>107641306244</td>\n",
       "      <td>1076413</td>\n",
       "      <td>...</td>\n",
       "      <td>Coplogic Initial</td>\n",
       "      <td>06244</td>\n",
       "      <td>Larceny Theft</td>\n",
       "      <td>Larceny - From Vehicle</td>\n",
       "      <td>Theft, From Locked Vehicle, &gt;$950</td>\n",
       "      <td>Open or Active</td>\n",
       "      <td>Central</td>\n",
       "      <td>NaN</td>\n",
       "      <td>NaN</td>\n",
       "      <td>NaN</td>\n",
       "    </tr>\n",
       "  </tbody>\n",
       "</table>\n",
       "<p>5 rows × 22 columns</p>\n",
       "</div>"
      ],
      "text/plain": [
       "     incident_datetime incident_date incident_time incident_month  \\\n",
       "0  2021-07-25 00:00:00    2021-07-25         00:00             07   \n",
       "6  2022-06-28 14:00:00    2022-06-28         14:00             06   \n",
       "7  2022-08-07 22:00:00    2022-08-07         22:00             08   \n",
       "12 2022-06-23 00:00:00    2022-06-23         00:00             06   \n",
       "14 2021-09-28 20:00:00    2021-09-28         20:00             09   \n",
       "\n",
       "    incident_hour  incident_year incident_day_of_week     report_datetime  \\\n",
       "0               0           2021               Sunday 2021-07-25 13:41:00   \n",
       "6              14           2022              Tuesday 2022-06-28 15:09:00   \n",
       "7              22           2022               Sunday 2022-08-16 15:26:00   \n",
       "12              0           2022             Thursday 2022-06-28 00:03:00   \n",
       "14             20           2021              Tuesday 2021-09-30 09:41:00   \n",
       "\n",
       "          row_id incident_id  ... report_type_description incident_code  \\\n",
       "0   105718906372     1057189  ...        Coplogic Initial         06372   \n",
       "6   116546206244     1165462  ...        Coplogic Initial         06244   \n",
       "7   118277206374     1182772  ...        Coplogic Initial         06374   \n",
       "12  116550406224     1165504  ...        Coplogic Initial         06224   \n",
       "14  107641306244     1076413  ...        Coplogic Initial         06244   \n",
       "\n",
       "   incident_category    incident_subcategory  \\\n",
       "0      Larceny Theft   Larceny Theft - Other   \n",
       "6      Larceny Theft  Larceny - From Vehicle   \n",
       "7      Larceny Theft   Larceny Theft - Other   \n",
       "12     Larceny Theft  Larceny - From Vehicle   \n",
       "14     Larceny Theft  Larceny - From Vehicle   \n",
       "\n",
       "                   incident_description      resolution police_district  \\\n",
       "0       Theft, Other Property, $50-$200  Open or Active        Southern   \n",
       "6     Theft, From Locked Vehicle, >$950  Open or Active        Richmond   \n",
       "7          Theft, Other Property, >$950  Open or Active        Richmond   \n",
       "12  Theft, From Unlocked Vehicle, >$950  Open or Active         Mission   \n",
       "14    Theft, From Locked Vehicle, >$950  Open or Active         Central   \n",
       "\n",
       "   latitude longitude  point  \n",
       "0       NaN       NaN    NaN  \n",
       "6       NaN       NaN    NaN  \n",
       "7       NaN       NaN    NaN  \n",
       "12      NaN       NaN    NaN  \n",
       "14      NaN       NaN    NaN  \n",
       "\n",
       "[5 rows x 22 columns]"
      ]
     },
     "execution_count": 224,
     "metadata": {},
     "output_type": "execute_result"
    }
   ],
   "source": [
    "lar_df.head(5)"
   ]
  },
  {
   "cell_type": "code",
   "execution_count": 225,
   "metadata": {
    "execution": {
     "iopub.execute_input": "2023-02-13T16:53:32.357790Z",
     "iopub.status.busy": "2023-02-13T16:53:32.357345Z",
     "iopub.status.idle": "2023-02-13T16:53:32.370712Z",
     "shell.execute_reply": "2023-02-13T16:53:32.369040Z",
     "shell.execute_reply.started": "2023-02-13T16:53:32.357735Z"
    }
   },
   "outputs": [
    {
     "data": {
      "text/plain": [
       "['incident_datetime',\n",
       " 'incident_date',\n",
       " 'incident_time',\n",
       " 'incident_month',\n",
       " 'incident_hour',\n",
       " 'incident_year',\n",
       " 'incident_day_of_week',\n",
       " 'report_datetime',\n",
       " 'row_id',\n",
       " 'incident_id',\n",
       " 'incident_number',\n",
       " 'report_type_code',\n",
       " 'report_type_description',\n",
       " 'incident_code',\n",
       " 'incident_category',\n",
       " 'incident_subcategory',\n",
       " 'incident_description',\n",
       " 'resolution',\n",
       " 'police_district',\n",
       " 'latitude',\n",
       " 'longitude',\n",
       " 'point']"
      ]
     },
     "execution_count": 225,
     "metadata": {},
     "output_type": "execute_result"
    }
   ],
   "source": [
    "lar_df.columns.values.tolist()"
   ]
  },
  {
   "cell_type": "code",
   "execution_count": 226,
   "metadata": {
    "execution": {
     "iopub.execute_input": "2023-02-13T16:53:32.372954Z",
     "iopub.status.busy": "2023-02-13T16:53:32.372487Z",
     "iopub.status.idle": "2023-02-13T16:53:32.430835Z",
     "shell.execute_reply": "2023-02-13T16:53:32.429513Z",
     "shell.execute_reply.started": "2023-02-13T16:53:32.372907Z"
    }
   },
   "outputs": [],
   "source": [
    "lar_df = lar_df[['incident_datetime',\n",
    " 'incident_date',\n",
    " 'incident_time',\n",
    " 'incident_hour',\n",
    " 'incident_month',\n",
    " 'incident_year',\n",
    " 'incident_day_of_week',\n",
    " 'report_datetime','incident_id','incident_category',\n",
    " 'incident_subcategory','resolution', 'police_district',\n",
    " 'latitude',\n",
    " 'longitude',]]"
   ]
  },
  {
   "cell_type": "code",
   "execution_count": 227,
   "metadata": {
    "execution": {
     "iopub.execute_input": "2023-02-13T16:53:32.433966Z",
     "iopub.status.busy": "2023-02-13T16:53:32.433324Z",
     "iopub.status.idle": "2023-02-13T16:53:32.589228Z",
     "shell.execute_reply": "2023-02-13T16:53:32.587887Z",
     "shell.execute_reply.started": "2023-02-13T16:53:32.433915Z"
    }
   },
   "outputs": [],
   "source": [
    "lar_df[\"incident_subcategory\"] = lar_df.incident_subcategory.apply(lambda x: x.split(\"-\")[1].strip())"
   ]
  },
  {
   "cell_type": "code",
   "execution_count": 228,
   "metadata": {
    "execution": {
     "iopub.execute_input": "2023-02-13T16:53:32.590929Z",
     "iopub.status.busy": "2023-02-13T16:53:32.590551Z",
     "iopub.status.idle": "2023-02-13T16:53:32.612787Z",
     "shell.execute_reply": "2023-02-13T16:53:32.611402Z",
     "shell.execute_reply.started": "2023-02-13T16:53:32.590897Z"
    }
   },
   "outputs": [
    {
     "data": {
      "text/html": [
       "<div>\n",
       "<style scoped>\n",
       "    .dataframe tbody tr th:only-of-type {\n",
       "        vertical-align: middle;\n",
       "    }\n",
       "\n",
       "    .dataframe tbody tr th {\n",
       "        vertical-align: top;\n",
       "    }\n",
       "\n",
       "    .dataframe thead th {\n",
       "        text-align: right;\n",
       "    }\n",
       "</style>\n",
       "<table border=\"1\" class=\"dataframe\">\n",
       "  <thead>\n",
       "    <tr style=\"text-align: right;\">\n",
       "      <th></th>\n",
       "      <th>incident_datetime</th>\n",
       "      <th>incident_date</th>\n",
       "      <th>incident_time</th>\n",
       "      <th>incident_hour</th>\n",
       "      <th>incident_month</th>\n",
       "      <th>incident_year</th>\n",
       "      <th>incident_day_of_week</th>\n",
       "      <th>report_datetime</th>\n",
       "      <th>incident_id</th>\n",
       "      <th>incident_category</th>\n",
       "      <th>incident_subcategory</th>\n",
       "      <th>resolution</th>\n",
       "      <th>police_district</th>\n",
       "      <th>latitude</th>\n",
       "      <th>longitude</th>\n",
       "    </tr>\n",
       "  </thead>\n",
       "  <tbody>\n",
       "    <tr>\n",
       "      <th>0</th>\n",
       "      <td>2021-07-25 00:00:00</td>\n",
       "      <td>2021-07-25</td>\n",
       "      <td>00:00</td>\n",
       "      <td>0</td>\n",
       "      <td>07</td>\n",
       "      <td>2021</td>\n",
       "      <td>Sunday</td>\n",
       "      <td>2021-07-25 13:41:00</td>\n",
       "      <td>1057189</td>\n",
       "      <td>Larceny Theft</td>\n",
       "      <td>Other</td>\n",
       "      <td>Open or Active</td>\n",
       "      <td>Southern</td>\n",
       "      <td>NaN</td>\n",
       "      <td>NaN</td>\n",
       "    </tr>\n",
       "    <tr>\n",
       "      <th>6</th>\n",
       "      <td>2022-06-28 14:00:00</td>\n",
       "      <td>2022-06-28</td>\n",
       "      <td>14:00</td>\n",
       "      <td>14</td>\n",
       "      <td>06</td>\n",
       "      <td>2022</td>\n",
       "      <td>Tuesday</td>\n",
       "      <td>2022-06-28 15:09:00</td>\n",
       "      <td>1165462</td>\n",
       "      <td>Larceny Theft</td>\n",
       "      <td>From Vehicle</td>\n",
       "      <td>Open or Active</td>\n",
       "      <td>Richmond</td>\n",
       "      <td>NaN</td>\n",
       "      <td>NaN</td>\n",
       "    </tr>\n",
       "    <tr>\n",
       "      <th>7</th>\n",
       "      <td>2022-08-07 22:00:00</td>\n",
       "      <td>2022-08-07</td>\n",
       "      <td>22:00</td>\n",
       "      <td>22</td>\n",
       "      <td>08</td>\n",
       "      <td>2022</td>\n",
       "      <td>Sunday</td>\n",
       "      <td>2022-08-16 15:26:00</td>\n",
       "      <td>1182772</td>\n",
       "      <td>Larceny Theft</td>\n",
       "      <td>Other</td>\n",
       "      <td>Open or Active</td>\n",
       "      <td>Richmond</td>\n",
       "      <td>NaN</td>\n",
       "      <td>NaN</td>\n",
       "    </tr>\n",
       "    <tr>\n",
       "      <th>12</th>\n",
       "      <td>2022-06-23 00:00:00</td>\n",
       "      <td>2022-06-23</td>\n",
       "      <td>00:00</td>\n",
       "      <td>0</td>\n",
       "      <td>06</td>\n",
       "      <td>2022</td>\n",
       "      <td>Thursday</td>\n",
       "      <td>2022-06-28 00:03:00</td>\n",
       "      <td>1165504</td>\n",
       "      <td>Larceny Theft</td>\n",
       "      <td>From Vehicle</td>\n",
       "      <td>Open or Active</td>\n",
       "      <td>Mission</td>\n",
       "      <td>NaN</td>\n",
       "      <td>NaN</td>\n",
       "    </tr>\n",
       "    <tr>\n",
       "      <th>14</th>\n",
       "      <td>2021-09-28 20:00:00</td>\n",
       "      <td>2021-09-28</td>\n",
       "      <td>20:00</td>\n",
       "      <td>20</td>\n",
       "      <td>09</td>\n",
       "      <td>2021</td>\n",
       "      <td>Tuesday</td>\n",
       "      <td>2021-09-30 09:41:00</td>\n",
       "      <td>1076413</td>\n",
       "      <td>Larceny Theft</td>\n",
       "      <td>From Vehicle</td>\n",
       "      <td>Open or Active</td>\n",
       "      <td>Central</td>\n",
       "      <td>NaN</td>\n",
       "      <td>NaN</td>\n",
       "    </tr>\n",
       "  </tbody>\n",
       "</table>\n",
       "</div>"
      ],
      "text/plain": [
       "     incident_datetime incident_date incident_time  incident_hour  \\\n",
       "0  2021-07-25 00:00:00    2021-07-25         00:00              0   \n",
       "6  2022-06-28 14:00:00    2022-06-28         14:00             14   \n",
       "7  2022-08-07 22:00:00    2022-08-07         22:00             22   \n",
       "12 2022-06-23 00:00:00    2022-06-23         00:00              0   \n",
       "14 2021-09-28 20:00:00    2021-09-28         20:00             20   \n",
       "\n",
       "   incident_month  incident_year incident_day_of_week     report_datetime  \\\n",
       "0              07           2021               Sunday 2021-07-25 13:41:00   \n",
       "6              06           2022              Tuesday 2022-06-28 15:09:00   \n",
       "7              08           2022               Sunday 2022-08-16 15:26:00   \n",
       "12             06           2022             Thursday 2022-06-28 00:03:00   \n",
       "14             09           2021              Tuesday 2021-09-30 09:41:00   \n",
       "\n",
       "   incident_id incident_category incident_subcategory      resolution  \\\n",
       "0      1057189     Larceny Theft                Other  Open or Active   \n",
       "6      1165462     Larceny Theft         From Vehicle  Open or Active   \n",
       "7      1182772     Larceny Theft                Other  Open or Active   \n",
       "12     1165504     Larceny Theft         From Vehicle  Open or Active   \n",
       "14     1076413     Larceny Theft         From Vehicle  Open or Active   \n",
       "\n",
       "   police_district  latitude  longitude  \n",
       "0         Southern       NaN        NaN  \n",
       "6         Richmond       NaN        NaN  \n",
       "7         Richmond       NaN        NaN  \n",
       "12         Mission       NaN        NaN  \n",
       "14         Central       NaN        NaN  "
      ]
     },
     "execution_count": 228,
     "metadata": {},
     "output_type": "execute_result"
    }
   ],
   "source": [
    "lar_df.head(5)"
   ]
  },
  {
   "cell_type": "code",
   "execution_count": 229,
   "metadata": {
    "execution": {
     "iopub.execute_input": "2023-02-13T16:53:32.614697Z",
     "iopub.status.busy": "2023-02-13T16:53:32.614353Z",
     "iopub.status.idle": "2023-02-13T16:53:32.677403Z",
     "shell.execute_reply": "2023-02-13T16:53:32.676240Z",
     "shell.execute_reply.started": "2023-02-13T16:53:32.614665Z"
    }
   },
   "outputs": [
    {
     "data": {
      "text/html": [
       "<div>\n",
       "<style scoped>\n",
       "    .dataframe tbody tr th:only-of-type {\n",
       "        vertical-align: middle;\n",
       "    }\n",
       "\n",
       "    .dataframe tbody tr th {\n",
       "        vertical-align: top;\n",
       "    }\n",
       "\n",
       "    .dataframe thead th {\n",
       "        text-align: right;\n",
       "    }\n",
       "</style>\n",
       "<table border=\"1\" class=\"dataframe\">\n",
       "  <thead>\n",
       "    <tr style=\"text-align: right;\">\n",
       "      <th></th>\n",
       "      <th>resolution</th>\n",
       "    </tr>\n",
       "  </thead>\n",
       "  <tbody>\n",
       "    <tr>\n",
       "      <th>Open or Active</th>\n",
       "      <td>96.24</td>\n",
       "    </tr>\n",
       "    <tr>\n",
       "      <th>Cite or Arrest Adult</th>\n",
       "      <td>3.67</td>\n",
       "    </tr>\n",
       "    <tr>\n",
       "      <th>Unfounded</th>\n",
       "      <td>0.06</td>\n",
       "    </tr>\n",
       "    <tr>\n",
       "      <th>Exceptional Adult</th>\n",
       "      <td>0.03</td>\n",
       "    </tr>\n",
       "  </tbody>\n",
       "</table>\n",
       "</div>"
      ],
      "text/plain": [
       "                      resolution\n",
       "Open or Active             96.24\n",
       "Cite or Arrest Adult        3.67\n",
       "Unfounded                   0.06\n",
       "Exceptional Adult           0.03"
      ]
     },
     "execution_count": 229,
     "metadata": {},
     "output_type": "execute_result"
    }
   ],
   "source": [
    "pd.DataFrame(round((lar_df.resolution.value_counts() / len(lar_df)) * 100, 2))"
   ]
  },
  {
   "cell_type": "code",
   "execution_count": 230,
   "metadata": {
    "execution": {
     "iopub.execute_input": "2023-02-13T16:53:32.682540Z",
     "iopub.status.busy": "2023-02-13T16:53:32.678952Z",
     "iopub.status.idle": "2023-02-13T16:53:32.713907Z",
     "shell.execute_reply": "2023-02-13T16:53:32.712759Z",
     "shell.execute_reply.started": "2023-02-13T16:53:32.682488Z"
    }
   },
   "outputs": [
    {
     "data": {
      "text/html": [
       "<div>\n",
       "<style scoped>\n",
       "    .dataframe tbody tr th:only-of-type {\n",
       "        vertical-align: middle;\n",
       "    }\n",
       "\n",
       "    .dataframe tbody tr th {\n",
       "        vertical-align: top;\n",
       "    }\n",
       "\n",
       "    .dataframe thead th {\n",
       "        text-align: right;\n",
       "    }\n",
       "</style>\n",
       "<table border=\"1\" class=\"dataframe\">\n",
       "  <thead>\n",
       "    <tr style=\"text-align: right;\">\n",
       "      <th></th>\n",
       "      <th>incident_subcategory</th>\n",
       "    </tr>\n",
       "  </thead>\n",
       "  <tbody>\n",
       "    <tr>\n",
       "      <th>From Vehicle</th>\n",
       "      <td>61.69</td>\n",
       "    </tr>\n",
       "    <tr>\n",
       "      <th>Other</th>\n",
       "      <td>23.04</td>\n",
       "    </tr>\n",
       "    <tr>\n",
       "      <th>Shoplifting</th>\n",
       "      <td>6.33</td>\n",
       "    </tr>\n",
       "    <tr>\n",
       "      <th>From Building</th>\n",
       "      <td>5.39</td>\n",
       "    </tr>\n",
       "    <tr>\n",
       "      <th>Bicycle</th>\n",
       "      <td>1.20</td>\n",
       "    </tr>\n",
       "    <tr>\n",
       "      <th>Auto Parts</th>\n",
       "      <td>1.19</td>\n",
       "    </tr>\n",
       "    <tr>\n",
       "      <th>Pickpocket</th>\n",
       "      <td>1.10</td>\n",
       "    </tr>\n",
       "    <tr>\n",
       "      <th>Purse Snatch</th>\n",
       "      <td>0.06</td>\n",
       "    </tr>\n",
       "  </tbody>\n",
       "</table>\n",
       "</div>"
      ],
      "text/plain": [
       "               incident_subcategory\n",
       "From Vehicle                  61.69\n",
       "Other                         23.04\n",
       "Shoplifting                    6.33\n",
       "From Building                  5.39\n",
       "Bicycle                        1.20\n",
       "Auto Parts                     1.19\n",
       "Pickpocket                     1.10\n",
       "Purse Snatch                   0.06"
      ]
     },
     "execution_count": 230,
     "metadata": {},
     "output_type": "execute_result"
    }
   ],
   "source": [
    "pd.DataFrame(round((lar_df.incident_subcategory.value_counts() / len(lar_df)) * 100, 2))"
   ]
  },
  {
   "cell_type": "code",
   "execution_count": 231,
   "metadata": {
    "execution": {
     "iopub.execute_input": "2023-02-13T16:53:32.715942Z",
     "iopub.status.busy": "2023-02-13T16:53:32.715518Z",
     "iopub.status.idle": "2023-02-13T16:53:32.775196Z",
     "shell.execute_reply": "2023-02-13T16:53:32.774110Z",
     "shell.execute_reply.started": "2023-02-13T16:53:32.715893Z"
    }
   },
   "outputs": [
    {
     "data": {
      "text/html": [
       "<div>\n",
       "<style scoped>\n",
       "    .dataframe tbody tr th:only-of-type {\n",
       "        vertical-align: middle;\n",
       "    }\n",
       "\n",
       "    .dataframe tbody tr th {\n",
       "        vertical-align: top;\n",
       "    }\n",
       "\n",
       "    .dataframe thead th {\n",
       "        text-align: right;\n",
       "    }\n",
       "</style>\n",
       "<table border=\"1\" class=\"dataframe\">\n",
       "  <thead>\n",
       "    <tr style=\"text-align: right;\">\n",
       "      <th></th>\n",
       "      <th>incident_day_of_week</th>\n",
       "    </tr>\n",
       "  </thead>\n",
       "  <tbody>\n",
       "    <tr>\n",
       "      <th>Friday</th>\n",
       "      <td>15.84</td>\n",
       "    </tr>\n",
       "    <tr>\n",
       "      <th>Saturday</th>\n",
       "      <td>15.08</td>\n",
       "    </tr>\n",
       "    <tr>\n",
       "      <th>Wednesday</th>\n",
       "      <td>14.21</td>\n",
       "    </tr>\n",
       "    <tr>\n",
       "      <th>Monday</th>\n",
       "      <td>13.90</td>\n",
       "    </tr>\n",
       "    <tr>\n",
       "      <th>Sunday</th>\n",
       "      <td>13.89</td>\n",
       "    </tr>\n",
       "    <tr>\n",
       "      <th>Thursday</th>\n",
       "      <td>13.84</td>\n",
       "    </tr>\n",
       "    <tr>\n",
       "      <th>Tuesday</th>\n",
       "      <td>13.24</td>\n",
       "    </tr>\n",
       "  </tbody>\n",
       "</table>\n",
       "</div>"
      ],
      "text/plain": [
       "           incident_day_of_week\n",
       "Friday                    15.84\n",
       "Saturday                  15.08\n",
       "Wednesday                 14.21\n",
       "Monday                    13.90\n",
       "Sunday                    13.89\n",
       "Thursday                  13.84\n",
       "Tuesday                   13.24"
      ]
     },
     "execution_count": 231,
     "metadata": {},
     "output_type": "execute_result"
    }
   ],
   "source": [
    "pd.DataFrame(round((lar_df.incident_day_of_week.value_counts() / len(lar_df)) * 100, 2))"
   ]
  },
  {
   "cell_type": "code",
   "execution_count": 232,
   "metadata": {
    "execution": {
     "iopub.execute_input": "2023-02-13T16:53:32.778228Z",
     "iopub.status.busy": "2023-02-13T16:53:32.777387Z",
     "iopub.status.idle": "2023-02-13T16:53:32.796852Z",
     "shell.execute_reply": "2023-02-13T16:53:32.795492Z",
     "shell.execute_reply.started": "2023-02-13T16:53:32.778182Z"
    }
   },
   "outputs": [
    {
     "data": {
      "text/html": [
       "<div>\n",
       "<style scoped>\n",
       "    .dataframe tbody tr th:only-of-type {\n",
       "        vertical-align: middle;\n",
       "    }\n",
       "\n",
       "    .dataframe tbody tr th {\n",
       "        vertical-align: top;\n",
       "    }\n",
       "\n",
       "    .dataframe thead th {\n",
       "        text-align: right;\n",
       "    }\n",
       "</style>\n",
       "<table border=\"1\" class=\"dataframe\">\n",
       "  <thead>\n",
       "    <tr style=\"text-align: right;\">\n",
       "      <th></th>\n",
       "      <th>incident_hour</th>\n",
       "    </tr>\n",
       "  </thead>\n",
       "  <tbody>\n",
       "    <tr>\n",
       "      <th>18</th>\n",
       "      <td>7.51</td>\n",
       "    </tr>\n",
       "    <tr>\n",
       "      <th>19</th>\n",
       "      <td>7.03</td>\n",
       "    </tr>\n",
       "    <tr>\n",
       "      <th>12</th>\n",
       "      <td>6.79</td>\n",
       "    </tr>\n",
       "    <tr>\n",
       "      <th>17</th>\n",
       "      <td>6.60</td>\n",
       "    </tr>\n",
       "    <tr>\n",
       "      <th>20</th>\n",
       "      <td>6.31</td>\n",
       "    </tr>\n",
       "    <tr>\n",
       "      <th>11</th>\n",
       "      <td>5.79</td>\n",
       "    </tr>\n",
       "    <tr>\n",
       "      <th>16</th>\n",
       "      <td>5.57</td>\n",
       "    </tr>\n",
       "    <tr>\n",
       "      <th>15</th>\n",
       "      <td>5.53</td>\n",
       "    </tr>\n",
       "    <tr>\n",
       "      <th>13</th>\n",
       "      <td>5.52</td>\n",
       "    </tr>\n",
       "    <tr>\n",
       "      <th>14</th>\n",
       "      <td>5.39</td>\n",
       "    </tr>\n",
       "    <tr>\n",
       "      <th>21</th>\n",
       "      <td>4.87</td>\n",
       "    </tr>\n",
       "    <tr>\n",
       "      <th>10</th>\n",
       "      <td>4.74</td>\n",
       "    </tr>\n",
       "    <tr>\n",
       "      <th>0</th>\n",
       "      <td>4.56</td>\n",
       "    </tr>\n",
       "    <tr>\n",
       "      <th>22</th>\n",
       "      <td>3.98</td>\n",
       "    </tr>\n",
       "    <tr>\n",
       "      <th>9</th>\n",
       "      <td>3.42</td>\n",
       "    </tr>\n",
       "    <tr>\n",
       "      <th>23</th>\n",
       "      <td>3.23</td>\n",
       "    </tr>\n",
       "    <tr>\n",
       "      <th>8</th>\n",
       "      <td>2.82</td>\n",
       "    </tr>\n",
       "    <tr>\n",
       "      <th>1</th>\n",
       "      <td>2.36</td>\n",
       "    </tr>\n",
       "    <tr>\n",
       "      <th>7</th>\n",
       "      <td>1.69</td>\n",
       "    </tr>\n",
       "    <tr>\n",
       "      <th>2</th>\n",
       "      <td>1.62</td>\n",
       "    </tr>\n",
       "    <tr>\n",
       "      <th>6</th>\n",
       "      <td>1.31</td>\n",
       "    </tr>\n",
       "    <tr>\n",
       "      <th>3</th>\n",
       "      <td>1.31</td>\n",
       "    </tr>\n",
       "    <tr>\n",
       "      <th>4</th>\n",
       "      <td>1.04</td>\n",
       "    </tr>\n",
       "    <tr>\n",
       "      <th>5</th>\n",
       "      <td>1.01</td>\n",
       "    </tr>\n",
       "  </tbody>\n",
       "</table>\n",
       "</div>"
      ],
      "text/plain": [
       "    incident_hour\n",
       "18           7.51\n",
       "19           7.03\n",
       "12           6.79\n",
       "17           6.60\n",
       "20           6.31\n",
       "11           5.79\n",
       "16           5.57\n",
       "15           5.53\n",
       "13           5.52\n",
       "14           5.39\n",
       "21           4.87\n",
       "10           4.74\n",
       "0            4.56\n",
       "22           3.98\n",
       "9            3.42\n",
       "23           3.23\n",
       "8            2.82\n",
       "1            2.36\n",
       "7            1.69\n",
       "2            1.62\n",
       "6            1.31\n",
       "3            1.31\n",
       "4            1.04\n",
       "5            1.01"
      ]
     },
     "execution_count": 232,
     "metadata": {},
     "output_type": "execute_result"
    }
   ],
   "source": [
    "pd.DataFrame(round((lar_df.incident_hour.value_counts() / len(lar_df)) * 100, 2))"
   ]
  },
  {
   "cell_type": "code",
   "execution_count": 233,
   "metadata": {
    "execution": {
     "iopub.execute_input": "2023-02-13T16:53:32.799661Z",
     "iopub.status.busy": "2023-02-13T16:53:32.798796Z",
     "iopub.status.idle": "2023-02-13T16:53:32.834946Z",
     "shell.execute_reply": "2023-02-13T16:53:32.833324Z",
     "shell.execute_reply.started": "2023-02-13T16:53:32.799616Z"
    }
   },
   "outputs": [
    {
     "data": {
      "text/html": [
       "<div>\n",
       "<style scoped>\n",
       "    .dataframe tbody tr th:only-of-type {\n",
       "        vertical-align: middle;\n",
       "    }\n",
       "\n",
       "    .dataframe tbody tr th {\n",
       "        vertical-align: top;\n",
       "    }\n",
       "\n",
       "    .dataframe thead th {\n",
       "        text-align: right;\n",
       "    }\n",
       "</style>\n",
       "<table border=\"1\" class=\"dataframe\">\n",
       "  <thead>\n",
       "    <tr style=\"text-align: right;\">\n",
       "      <th></th>\n",
       "      <th>incident_month</th>\n",
       "    </tr>\n",
       "  </thead>\n",
       "  <tbody>\n",
       "    <tr>\n",
       "      <th>01</th>\n",
       "      <td>9.93</td>\n",
       "    </tr>\n",
       "    <tr>\n",
       "      <th>10</th>\n",
       "      <td>9.11</td>\n",
       "    </tr>\n",
       "    <tr>\n",
       "      <th>07</th>\n",
       "      <td>8.71</td>\n",
       "    </tr>\n",
       "    <tr>\n",
       "      <th>12</th>\n",
       "      <td>8.65</td>\n",
       "    </tr>\n",
       "    <tr>\n",
       "      <th>08</th>\n",
       "      <td>8.61</td>\n",
       "    </tr>\n",
       "    <tr>\n",
       "      <th>09</th>\n",
       "      <td>8.54</td>\n",
       "    </tr>\n",
       "    <tr>\n",
       "      <th>11</th>\n",
       "      <td>8.49</td>\n",
       "    </tr>\n",
       "    <tr>\n",
       "      <th>06</th>\n",
       "      <td>8.06</td>\n",
       "    </tr>\n",
       "    <tr>\n",
       "      <th>05</th>\n",
       "      <td>7.77</td>\n",
       "    </tr>\n",
       "    <tr>\n",
       "      <th>02</th>\n",
       "      <td>7.61</td>\n",
       "    </tr>\n",
       "    <tr>\n",
       "      <th>03</th>\n",
       "      <td>7.50</td>\n",
       "    </tr>\n",
       "    <tr>\n",
       "      <th>04</th>\n",
       "      <td>7.02</td>\n",
       "    </tr>\n",
       "  </tbody>\n",
       "</table>\n",
       "</div>"
      ],
      "text/plain": [
       "    incident_month\n",
       "01            9.93\n",
       "10            9.11\n",
       "07            8.71\n",
       "12            8.65\n",
       "08            8.61\n",
       "09            8.54\n",
       "11            8.49\n",
       "06            8.06\n",
       "05            7.77\n",
       "02            7.61\n",
       "03            7.50\n",
       "04            7.02"
      ]
     },
     "execution_count": 233,
     "metadata": {},
     "output_type": "execute_result"
    }
   ],
   "source": [
    "pd.DataFrame(round((lar_df.incident_month.value_counts() / len(lar_df)) * 100, 2))"
   ]
  },
  {
   "cell_type": "code",
   "execution_count": 234,
   "metadata": {
    "execution": {
     "iopub.execute_input": "2023-02-13T16:53:32.837370Z",
     "iopub.status.busy": "2023-02-13T16:53:32.836593Z",
     "iopub.status.idle": "2023-02-13T16:53:32.851196Z",
     "shell.execute_reply": "2023-02-13T16:53:32.850017Z",
     "shell.execute_reply.started": "2023-02-13T16:53:32.837321Z"
    }
   },
   "outputs": [],
   "source": [
    "# coords = lar_df[['latitude', 'longitude']].to_numpy()\n",
    "\n",
    "\n",
    "# coords"
   ]
  },
  {
   "cell_type": "code",
   "execution_count": 235,
   "metadata": {
    "execution": {
     "iopub.execute_input": "2023-02-13T16:53:32.852991Z",
     "iopub.status.busy": "2023-02-13T16:53:32.852655Z",
     "iopub.status.idle": "2023-02-13T16:53:32.943693Z",
     "shell.execute_reply": "2023-02-13T16:53:32.942665Z",
     "shell.execute_reply.started": "2023-02-13T16:53:32.852962Z"
    }
   },
   "outputs": [],
   "source": [
    "# from sklearn.cluster import KMeans\n",
    "\n",
    "\n",
    "\n",
    "# def kmeans_model(input_data):\n",
    "    \n",
    "#     kmeans = KMeans(n_clusters = 10)\n",
    "\n",
    "\n",
    "#     kmeans.fit(input_data)\n",
    "\n",
    "\n",
    "#     return kmeans.labels_\n",
    "\n",
    "\n",
    "\n",
    "\n",
    "    \n",
    "\n",
    "\n",
    "\n"
   ]
  },
  {
   "cell_type": "code",
   "execution_count": 236,
   "metadata": {
    "execution": {
     "iopub.execute_input": "2023-02-13T16:53:32.945312Z",
     "iopub.status.busy": "2023-02-13T16:53:32.945001Z",
     "iopub.status.idle": "2023-02-13T16:53:37.958799Z",
     "shell.execute_reply": "2023-02-13T16:53:37.957862Z",
     "shell.execute_reply.started": "2023-02-13T16:53:32.945284Z"
    }
   },
   "outputs": [],
   "source": [
    "# labels = kmeans_model(coords)\n",
    "\n",
    "\n",
    "\n"
   ]
  },
  {
   "cell_type": "code",
   "execution_count": 237,
   "metadata": {
    "execution": {
     "iopub.execute_input": "2023-02-13T16:53:37.960505Z",
     "iopub.status.busy": "2023-02-13T16:53:37.959896Z",
     "iopub.status.idle": "2023-02-13T16:53:37.968527Z",
     "shell.execute_reply": "2023-02-13T16:53:37.967310Z",
     "shell.execute_reply.started": "2023-02-13T16:53:37.960471Z"
    }
   },
   "outputs": [],
   "source": [
    "# coords = pd.DataFrame(coords).rename({0: \"latitude\", 1: \"longitude\"}, axis = 1)\n",
    "\n",
    "\n",
    "# coords = pd.concat([coords, pd.DataFrame(labels)], axis = 1)\n"
   ]
  },
  {
   "cell_type": "code",
   "execution_count": 238,
   "metadata": {
    "execution": {
     "iopub.execute_input": "2023-02-13T16:53:37.970248Z",
     "iopub.status.busy": "2023-02-13T16:53:37.969896Z",
     "iopub.status.idle": "2023-02-13T16:53:37.992755Z",
     "shell.execute_reply": "2023-02-13T16:53:37.991858Z",
     "shell.execute_reply.started": "2023-02-13T16:53:37.970200Z"
    }
   },
   "outputs": [],
   "source": [
    "# coords = coords.rename({0: \"cluster\"}, axis = 1)"
   ]
  },
  {
   "cell_type": "code",
   "execution_count": 239,
   "metadata": {
    "execution": {
     "iopub.execute_input": "2023-02-13T16:53:37.994823Z",
     "iopub.status.busy": "2023-02-13T16:53:37.993864Z",
     "iopub.status.idle": "2023-02-13T16:53:43.122367Z",
     "shell.execute_reply": "2023-02-13T16:53:43.121448Z",
     "shell.execute_reply.started": "2023-02-13T16:53:37.994749Z"
    }
   },
   "outputs": [],
   "source": [
    "\n",
    "# def scatterplot(data):\n",
    "    \n",
    "\n",
    "#     sns.set_style('darkgrid')\n",
    "\n",
    "\n",
    "#     sns.set_context('paper', font_scale = 1.5)\n",
    "\n",
    "\n",
    "#     plt.figure(figsize = (24, 20))\n",
    "\n",
    "\n",
    "#     sns.scatterplot(x = data.longitude, y = data.latitude, hue = data.cluster)\n",
    "\n",
    "\n",
    "#     plt.show()\n",
    "    \n",
    "    \n",
    "\n",
    "# scatterplot(coords)"
   ]
  },
  {
   "cell_type": "code",
   "execution_count": 240,
   "metadata": {
    "execution": {
     "iopub.execute_input": "2023-02-13T16:53:43.124091Z",
     "iopub.status.busy": "2023-02-13T16:53:43.123548Z",
     "iopub.status.idle": "2023-02-13T16:53:47.716006Z",
     "shell.execute_reply": "2023-02-13T16:53:47.715035Z",
     "shell.execute_reply.started": "2023-02-13T16:53:43.124048Z"
    }
   },
   "outputs": [],
   "source": [
    "cols = ['incident_datetime',\n",
    " 'incident_time', 'report_datetime']\n",
    "\n",
    "\n",
    "lar_df['incident_date'] = lar_df.incident_date.apply(lambda x: dt.datetime.strftime(x, \"%Y-%m-%d\"))\n",
    "\n",
    "\n",
    "crime_df['incident_date'] = crime_df.incident_date.apply(lambda x: dt.datetime.strftime(x, \"%Y-%m-%d\"))\n",
    "\n",
    "\n",
    "\n",
    "for col in cols:\n",
    "    \n",
    "    \n",
    "    lar_df[col] = lar_df[col].apply(lambda x: str(x))\n",
    "    \n",
    "    \n",
    "    crime_df[col] = crime_df[col].apply(lambda x: str(x))\n",
    "    \n",
    "    \n",
    "    "
   ]
  },
  {
   "cell_type": "code",
   "execution_count": 241,
   "metadata": {
    "execution": {
     "iopub.execute_input": "2023-02-13T16:53:47.717476Z",
     "iopub.status.busy": "2023-02-13T16:53:47.717176Z",
     "iopub.status.idle": "2023-02-13T16:53:49.448340Z",
     "shell.execute_reply": "2023-02-13T16:53:49.447058Z",
     "shell.execute_reply.started": "2023-02-13T16:53:47.717448Z"
    }
   },
   "outputs": [],
   "source": [
    "lar_df.to_csv(\"./san_francisco_crimes_data_from_2018/sf_larceny_from_2018.csv\", index = False)\n",
    "\n",
    "crime_df.to_csv(\"./san_francisco_crimes_data_from_2018/sf_crimes_from_2018.csv\", index = False)"
   ]
  },
  {
   "cell_type": "code",
   "execution_count": 242,
   "metadata": {
    "execution": {
     "iopub.execute_input": "2023-02-13T17:02:47.591445Z",
     "iopub.status.busy": "2023-02-13T17:02:47.591013Z",
     "iopub.status.idle": "2023-02-13T17:02:47.600489Z",
     "shell.execute_reply": "2023-02-13T17:02:47.599110Z",
     "shell.execute_reply.started": "2023-02-13T17:02:47.591408Z"
    }
   },
   "outputs": [
    {
     "data": {
      "text/html": [
       "<div>\n",
       "<style scoped>\n",
       "    .dataframe tbody tr th:only-of-type {\n",
       "        vertical-align: middle;\n",
       "    }\n",
       "\n",
       "    .dataframe tbody tr th {\n",
       "        vertical-align: top;\n",
       "    }\n",
       "\n",
       "    .dataframe thead th {\n",
       "        text-align: right;\n",
       "    }\n",
       "</style>\n",
       "<table border=\"1\" class=\"dataframe\">\n",
       "  <thead>\n",
       "    <tr style=\"text-align: right;\">\n",
       "      <th></th>\n",
       "      <th>incident_datetime</th>\n",
       "      <th>incident_date</th>\n",
       "      <th>incident_time</th>\n",
       "      <th>incident_month</th>\n",
       "      <th>incident_hour</th>\n",
       "      <th>incident_year</th>\n",
       "      <th>incident_day_of_week</th>\n",
       "      <th>report_datetime</th>\n",
       "      <th>row_id</th>\n",
       "      <th>incident_id</th>\n",
       "      <th>...</th>\n",
       "      <th>report_type_description</th>\n",
       "      <th>incident_code</th>\n",
       "      <th>incident_category</th>\n",
       "      <th>incident_subcategory</th>\n",
       "      <th>incident_description</th>\n",
       "      <th>resolution</th>\n",
       "      <th>police_district</th>\n",
       "      <th>latitude</th>\n",
       "      <th>longitude</th>\n",
       "      <th>point</th>\n",
       "    </tr>\n",
       "  </thead>\n",
       "  <tbody>\n",
       "    <tr>\n",
       "      <th>0</th>\n",
       "      <td>2021-07-25 00:00:00</td>\n",
       "      <td>2021-07-25</td>\n",
       "      <td>00:00</td>\n",
       "      <td>07</td>\n",
       "      <td>0</td>\n",
       "      <td>2021</td>\n",
       "      <td>Sunday</td>\n",
       "      <td>2021-07-25 13:41:00</td>\n",
       "      <td>105718906372</td>\n",
       "      <td>1057189</td>\n",
       "      <td>...</td>\n",
       "      <td>Coplogic Initial</td>\n",
       "      <td>06372</td>\n",
       "      <td>Larceny Theft</td>\n",
       "      <td>Larceny Theft - Other</td>\n",
       "      <td>Theft, Other Property, $50-$200</td>\n",
       "      <td>Open or Active</td>\n",
       "      <td>Southern</td>\n",
       "      <td>NaN</td>\n",
       "      <td>NaN</td>\n",
       "      <td>NaN</td>\n",
       "    </tr>\n",
       "    <tr>\n",
       "      <th>1</th>\n",
       "      <td>2022-06-28 23:58:00</td>\n",
       "      <td>2022-06-28</td>\n",
       "      <td>23:58</td>\n",
       "      <td>06</td>\n",
       "      <td>23</td>\n",
       "      <td>2022</td>\n",
       "      <td>Tuesday</td>\n",
       "      <td>2022-06-28 23:58:00</td>\n",
       "      <td>116554371012</td>\n",
       "      <td>1165543</td>\n",
       "      <td>...</td>\n",
       "      <td>Vehicle Supplement</td>\n",
       "      <td>71012</td>\n",
       "      <td>Other Offenses</td>\n",
       "      <td>Other Offenses</td>\n",
       "      <td>License Plate, Recovered</td>\n",
       "      <td>Open or Active</td>\n",
       "      <td>Out of SF</td>\n",
       "      <td>NaN</td>\n",
       "      <td>NaN</td>\n",
       "      <td>NaN</td>\n",
       "    </tr>\n",
       "    <tr>\n",
       "      <th>2</th>\n",
       "      <td>2022-03-11 10:30:00</td>\n",
       "      <td>2022-03-11</td>\n",
       "      <td>10:30</td>\n",
       "      <td>03</td>\n",
       "      <td>10</td>\n",
       "      <td>2022</td>\n",
       "      <td>Friday</td>\n",
       "      <td>2022-03-11 20:03:00</td>\n",
       "      <td>113048071000</td>\n",
       "      <td>1130480</td>\n",
       "      <td>...</td>\n",
       "      <td>Coplogic Initial</td>\n",
       "      <td>71000</td>\n",
       "      <td>Lost Property</td>\n",
       "      <td>Lost Property</td>\n",
       "      <td>Lost Property</td>\n",
       "      <td>Open or Active</td>\n",
       "      <td>Central</td>\n",
       "      <td>NaN</td>\n",
       "      <td>NaN</td>\n",
       "      <td>NaN</td>\n",
       "    </tr>\n",
       "    <tr>\n",
       "      <th>3</th>\n",
       "      <td>2021-05-15 17:47:00</td>\n",
       "      <td>2021-05-15</td>\n",
       "      <td>17:47</td>\n",
       "      <td>05</td>\n",
       "      <td>17</td>\n",
       "      <td>2021</td>\n",
       "      <td>Saturday</td>\n",
       "      <td>2021-05-15 17:47:00</td>\n",
       "      <td>103051807043</td>\n",
       "      <td>1030518</td>\n",
       "      <td>...</td>\n",
       "      <td>Vehicle Supplement</td>\n",
       "      <td>07043</td>\n",
       "      <td>Recovered Vehicle</td>\n",
       "      <td>Recovered Vehicle</td>\n",
       "      <td>Vehicle, Recovered, Motorcycle</td>\n",
       "      <td>Open or Active</td>\n",
       "      <td>Out of SF</td>\n",
       "      <td>NaN</td>\n",
       "      <td>NaN</td>\n",
       "      <td>NaN</td>\n",
       "    </tr>\n",
       "    <tr>\n",
       "      <th>4</th>\n",
       "      <td>2022-06-28 17:22:00</td>\n",
       "      <td>2022-06-28</td>\n",
       "      <td>17:22</td>\n",
       "      <td>06</td>\n",
       "      <td>17</td>\n",
       "      <td>2022</td>\n",
       "      <td>Tuesday</td>\n",
       "      <td>2022-06-28 17:22:00</td>\n",
       "      <td>116535107041</td>\n",
       "      <td>1165351</td>\n",
       "      <td>...</td>\n",
       "      <td>Vehicle Supplement</td>\n",
       "      <td>07041</td>\n",
       "      <td>Recovered Vehicle</td>\n",
       "      <td>Recovered Vehicle</td>\n",
       "      <td>Vehicle, Recovered, Auto</td>\n",
       "      <td>Open or Active</td>\n",
       "      <td>Out of SF</td>\n",
       "      <td>NaN</td>\n",
       "      <td>NaN</td>\n",
       "      <td>NaN</td>\n",
       "    </tr>\n",
       "  </tbody>\n",
       "</table>\n",
       "<p>5 rows × 22 columns</p>\n",
       "</div>"
      ],
      "text/plain": [
       "     incident_datetime incident_date incident_time incident_month  \\\n",
       "0  2021-07-25 00:00:00    2021-07-25         00:00             07   \n",
       "1  2022-06-28 23:58:00    2022-06-28         23:58             06   \n",
       "2  2022-03-11 10:30:00    2022-03-11         10:30             03   \n",
       "3  2021-05-15 17:47:00    2021-05-15         17:47             05   \n",
       "4  2022-06-28 17:22:00    2022-06-28         17:22             06   \n",
       "\n",
       "   incident_hour  incident_year incident_day_of_week      report_datetime  \\\n",
       "0              0           2021               Sunday  2021-07-25 13:41:00   \n",
       "1             23           2022              Tuesday  2022-06-28 23:58:00   \n",
       "2             10           2022               Friday  2022-03-11 20:03:00   \n",
       "3             17           2021             Saturday  2021-05-15 17:47:00   \n",
       "4             17           2022              Tuesday  2022-06-28 17:22:00   \n",
       "\n",
       "         row_id incident_id  ... report_type_description incident_code  \\\n",
       "0  105718906372     1057189  ...        Coplogic Initial         06372   \n",
       "1  116554371012     1165543  ...      Vehicle Supplement         71012   \n",
       "2  113048071000     1130480  ...        Coplogic Initial         71000   \n",
       "3  103051807043     1030518  ...      Vehicle Supplement         07043   \n",
       "4  116535107041     1165351  ...      Vehicle Supplement         07041   \n",
       "\n",
       "   incident_category   incident_subcategory             incident_description  \\\n",
       "0      Larceny Theft  Larceny Theft - Other  Theft, Other Property, $50-$200   \n",
       "1     Other Offenses         Other Offenses         License Plate, Recovered   \n",
       "2      Lost Property          Lost Property                    Lost Property   \n",
       "3  Recovered Vehicle      Recovered Vehicle   Vehicle, Recovered, Motorcycle   \n",
       "4  Recovered Vehicle      Recovered Vehicle         Vehicle, Recovered, Auto   \n",
       "\n",
       "       resolution police_district latitude longitude  point  \n",
       "0  Open or Active        Southern      NaN       NaN    NaN  \n",
       "1  Open or Active       Out of SF      NaN       NaN    NaN  \n",
       "2  Open or Active         Central      NaN       NaN    NaN  \n",
       "3  Open or Active       Out of SF      NaN       NaN    NaN  \n",
       "4  Open or Active       Out of SF      NaN       NaN    NaN  \n",
       "\n",
       "[5 rows x 22 columns]"
      ]
     },
     "execution_count": 242,
     "metadata": {},
     "output_type": "execute_result"
    }
   ],
   "source": [
    "crime_df.head(5)"
   ]
  },
  {
   "cell_type": "code",
   "execution_count": null,
   "metadata": {
    "execution": {
     "iopub.execute_input": "2023-02-13T17:02:51.071382Z",
     "iopub.status.busy": "2023-02-13T17:02:51.070979Z",
     "iopub.status.idle": "2023-02-13T17:03:21.315219Z",
     "shell.execute_reply": "2023-02-13T17:03:21.313204Z",
     "shell.execute_reply.started": "2023-02-13T17:02:51.071349Z"
    }
   },
   "outputs": [],
   "source": []
  },
  {
   "cell_type": "code",
   "execution_count": null,
   "metadata": {},
   "outputs": [],
   "source": []
  },
  {
   "cell_type": "code",
   "execution_count": null,
   "metadata": {},
   "outputs": [],
   "source": []
  },
  {
   "cell_type": "code",
   "execution_count": null,
   "metadata": {},
   "outputs": [],
   "source": []
  },
  {
   "cell_type": "code",
   "execution_count": null,
   "metadata": {},
   "outputs": [],
   "source": []
  },
  {
   "cell_type": "code",
   "execution_count": null,
   "metadata": {},
   "outputs": [],
   "source": []
  }
 ],
 "metadata": {
  "kernelspec": {
   "display_name": "Python 3 (ipykernel)",
   "language": "python",
   "name": "python3"
  },
  "language_info": {
   "codemirror_mode": {
    "name": "ipython",
    "version": 3
   },
   "file_extension": ".py",
   "mimetype": "text/x-python",
   "name": "python",
   "nbconvert_exporter": "python",
   "pygments_lexer": "ipython3",
   "version": "3.9.6"
  }
 },
 "nbformat": 4,
 "nbformat_minor": 4
}
